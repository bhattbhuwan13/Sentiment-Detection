{
 "cells": [
  {
   "cell_type": "code",
   "execution_count": 89,
   "metadata": {},
   "outputs": [],
   "source": [
    "import matplotlib as mpl\n",
    "import numpy as np\n",
    "import pandas as pd\n",
    "import matplotlib.pyplot as plt\n",
    "%matplotlib inline\n",
    "import seaborn as sns"
   ]
  },
  {
   "cell_type": "code",
   "execution_count": 90,
   "metadata": {},
   "outputs": [],
   "source": [
    "# configuring matplotlib\n",
    "plt.axes.titlesize : 24\n",
    "plt.axes.labelsize : 20\n",
    "plt.figsize = (15, 10)\n",
    "mpl.style.use('fivethirtyeight')"
   ]
  },
  {
   "cell_type": "code",
   "execution_count": 91,
   "metadata": {},
   "outputs": [
    {
     "data": {
      "text/html": [
       "<div>\n",
       "<style scoped>\n",
       "    .dataframe tbody tr th:only-of-type {\n",
       "        vertical-align: middle;\n",
       "    }\n",
       "\n",
       "    .dataframe tbody tr th {\n",
       "        vertical-align: top;\n",
       "    }\n",
       "\n",
       "    .dataframe thead th {\n",
       "        text-align: right;\n",
       "    }\n",
       "</style>\n",
       "<table border=\"1\" class=\"dataframe\">\n",
       "  <thead>\n",
       "    <tr style=\"text-align: right;\">\n",
       "      <th></th>\n",
       "      <th>maker</th>\n",
       "      <th>model</th>\n",
       "      <th>mileage</th>\n",
       "      <th>manufacture_year</th>\n",
       "      <th>engine_displacement</th>\n",
       "      <th>engine_power</th>\n",
       "      <th>body_type</th>\n",
       "      <th>color_slug</th>\n",
       "      <th>stk_year</th>\n",
       "      <th>transmission</th>\n",
       "      <th>door_count</th>\n",
       "      <th>seat_count</th>\n",
       "      <th>fuel_type</th>\n",
       "      <th>date_created</th>\n",
       "      <th>date_last_seen</th>\n",
       "      <th>price_eur</th>\n",
       "    </tr>\n",
       "  </thead>\n",
       "  <tbody>\n",
       "    <tr>\n",
       "      <th>0</th>\n",
       "      <td>ford</td>\n",
       "      <td>galaxy</td>\n",
       "      <td>151000.0</td>\n",
       "      <td>2011.0</td>\n",
       "      <td>2000.0</td>\n",
       "      <td>103.0</td>\n",
       "      <td>NaN</td>\n",
       "      <td>NaN</td>\n",
       "      <td>None</td>\n",
       "      <td>man</td>\n",
       "      <td>5</td>\n",
       "      <td>7</td>\n",
       "      <td>diesel</td>\n",
       "      <td>2015-11-14 18:10:06.838319+00</td>\n",
       "      <td>2016-01-27 20:40:15.46361+00</td>\n",
       "      <td>10584.75</td>\n",
       "    </tr>\n",
       "    <tr>\n",
       "      <th>1</th>\n",
       "      <td>skoda</td>\n",
       "      <td>octavia</td>\n",
       "      <td>143476.0</td>\n",
       "      <td>2012.0</td>\n",
       "      <td>2000.0</td>\n",
       "      <td>81.0</td>\n",
       "      <td>NaN</td>\n",
       "      <td>NaN</td>\n",
       "      <td>None</td>\n",
       "      <td>man</td>\n",
       "      <td>5</td>\n",
       "      <td>5</td>\n",
       "      <td>diesel</td>\n",
       "      <td>2015-11-14 18:10:06.853411+00</td>\n",
       "      <td>2016-01-27 20:40:15.46361+00</td>\n",
       "      <td>8882.31</td>\n",
       "    </tr>\n",
       "    <tr>\n",
       "      <th>2</th>\n",
       "      <td>bmw</td>\n",
       "      <td>NaN</td>\n",
       "      <td>97676.0</td>\n",
       "      <td>2010.0</td>\n",
       "      <td>1995.0</td>\n",
       "      <td>85.0</td>\n",
       "      <td>NaN</td>\n",
       "      <td>NaN</td>\n",
       "      <td>None</td>\n",
       "      <td>man</td>\n",
       "      <td>5</td>\n",
       "      <td>5</td>\n",
       "      <td>diesel</td>\n",
       "      <td>2015-11-14 18:10:06.861792+00</td>\n",
       "      <td>2016-01-27 20:40:15.46361+00</td>\n",
       "      <td>12065.06</td>\n",
       "    </tr>\n",
       "    <tr>\n",
       "      <th>3</th>\n",
       "      <td>skoda</td>\n",
       "      <td>fabia</td>\n",
       "      <td>111970.0</td>\n",
       "      <td>2004.0</td>\n",
       "      <td>1200.0</td>\n",
       "      <td>47.0</td>\n",
       "      <td>NaN</td>\n",
       "      <td>NaN</td>\n",
       "      <td>None</td>\n",
       "      <td>man</td>\n",
       "      <td>5</td>\n",
       "      <td>5</td>\n",
       "      <td>gasoline</td>\n",
       "      <td>2015-11-14 18:10:06.872313+00</td>\n",
       "      <td>2016-01-27 20:40:15.46361+00</td>\n",
       "      <td>2960.77</td>\n",
       "    </tr>\n",
       "    <tr>\n",
       "      <th>4</th>\n",
       "      <td>skoda</td>\n",
       "      <td>fabia</td>\n",
       "      <td>128886.0</td>\n",
       "      <td>2004.0</td>\n",
       "      <td>1200.0</td>\n",
       "      <td>47.0</td>\n",
       "      <td>NaN</td>\n",
       "      <td>NaN</td>\n",
       "      <td>None</td>\n",
       "      <td>man</td>\n",
       "      <td>5</td>\n",
       "      <td>5</td>\n",
       "      <td>gasoline</td>\n",
       "      <td>2015-11-14 18:10:06.880335+00</td>\n",
       "      <td>2016-01-27 20:40:15.46361+00</td>\n",
       "      <td>2738.71</td>\n",
       "    </tr>\n",
       "  </tbody>\n",
       "</table>\n",
       "</div>"
      ],
      "text/plain": [
       "   maker    model   mileage  manufacture_year  engine_displacement  \\\n",
       "0   ford   galaxy  151000.0            2011.0               2000.0   \n",
       "1  skoda  octavia  143476.0            2012.0               2000.0   \n",
       "2    bmw      NaN   97676.0            2010.0               1995.0   \n",
       "3  skoda    fabia  111970.0            2004.0               1200.0   \n",
       "4  skoda    fabia  128886.0            2004.0               1200.0   \n",
       "\n",
       "   engine_power body_type color_slug stk_year transmission door_count  \\\n",
       "0         103.0       NaN        NaN     None          man          5   \n",
       "1          81.0       NaN        NaN     None          man          5   \n",
       "2          85.0       NaN        NaN     None          man          5   \n",
       "3          47.0       NaN        NaN     None          man          5   \n",
       "4          47.0       NaN        NaN     None          man          5   \n",
       "\n",
       "  seat_count fuel_type                   date_created  \\\n",
       "0          7    diesel  2015-11-14 18:10:06.838319+00   \n",
       "1          5    diesel  2015-11-14 18:10:06.853411+00   \n",
       "2          5    diesel  2015-11-14 18:10:06.861792+00   \n",
       "3          5  gasoline  2015-11-14 18:10:06.872313+00   \n",
       "4          5  gasoline  2015-11-14 18:10:06.880335+00   \n",
       "\n",
       "                 date_last_seen  price_eur  \n",
       "0  2016-01-27 20:40:15.46361+00   10584.75  \n",
       "1  2016-01-27 20:40:15.46361+00    8882.31  \n",
       "2  2016-01-27 20:40:15.46361+00   12065.06  \n",
       "3  2016-01-27 20:40:15.46361+00    2960.77  \n",
       "4  2016-01-27 20:40:15.46361+00    2738.71  "
      ]
     },
     "execution_count": 91,
     "metadata": {},
     "output_type": "execute_result"
    }
   ],
   "source": [
    "raw_data =pd.read_csv('../data/raw/dataset.csv', low_memory=False)\n",
    "raw_data.head()"
   ]
  },
  {
   "cell_type": "markdown",
   "metadata": {},
   "source": [
    "The information regarding different columns is given below:\n",
    "* maker - The brand \n",
    "* model - The model name\n",
    "* mileage - in KM\n",
    "* manufacture_year - The year in which the car was manufactured\n",
    "* engine_displacement - in ccm\n",
    "* engine_power - in kW\n",
    "* body_type - almost never present, but I scraped only personal cars, no motorcycles or utility vehicles\n",
    "* color_slug - also almost never present\n",
    "* stk_year - year of the last emission control\n",
    "* transmission - automatic or manual\n",
    "* door_count -  number of doors in the car\n",
    "* seat_count - number of seats in the car\n",
    "* fuel_type - gasoline, diesel, cng, lpg, electric\n",
    "* date_created - when the ad was scraped\n",
    "* datelastseen - when the ad was last seen. Our policy was to remove all ads older than 60 days\n",
    "* price_eur - list price converted to EUR\n"
   ]
  },
  {
   "cell_type": "code",
   "execution_count": 92,
   "metadata": {},
   "outputs": [
    {
     "data": {
      "text/plain": [
       "(3552912, 16)"
      ]
     },
     "execution_count": 92,
     "metadata": {},
     "output_type": "execute_result"
    }
   ],
   "source": [
    "raw_data.shape"
   ]
  },
  {
   "cell_type": "code",
   "execution_count": 93,
   "metadata": {},
   "outputs": [
    {
     "name": "stdout",
     "output_type": "stream",
     "text": [
      "<class 'pandas.core.frame.DataFrame'>\n",
      "RangeIndex: 3552912 entries, 0 to 3552911\n",
      "Data columns (total 16 columns):\n",
      " #   Column               Dtype  \n",
      "---  ------               -----  \n",
      " 0   maker                object \n",
      " 1   model                object \n",
      " 2   mileage              float64\n",
      " 3   manufacture_year     float64\n",
      " 4   engine_displacement  float64\n",
      " 5   engine_power         float64\n",
      " 6   body_type            object \n",
      " 7   color_slug           object \n",
      " 8   stk_year             object \n",
      " 9   transmission         object \n",
      " 10  door_count           object \n",
      " 11  seat_count           object \n",
      " 12  fuel_type            object \n",
      " 13  date_created         object \n",
      " 14  date_last_seen       object \n",
      " 15  price_eur            float64\n",
      "dtypes: float64(5), object(11)\n",
      "memory usage: 433.7+ MB\n"
     ]
    }
   ],
   "source": [
    "raw_data.info(verbose=True)"
   ]
  },
  {
   "cell_type": "markdown",
   "metadata": {},
   "source": [
    "Let's check the dataframe for missing values in each column"
   ]
  },
  {
   "cell_type": "code",
   "execution_count": 94,
   "metadata": {},
   "outputs": [
    {
     "data": {
      "text/plain": [
       "<matplotlib.axes._subplots.AxesSubplot at 0x3668efb38>"
      ]
     },
     "execution_count": 94,
     "metadata": {},
     "output_type": "execute_result"
    },
    {
     "data": {
      "image/png": "[encoded data removed]",
      "text/plain": [
       "<Figure size 1080x720 with 1 Axes>"
      ]
     },
     "metadata": {},
     "output_type": "display_data"
    }
   ],
   "source": [
    "raw_data.isna().sum().plot(x='column names', kind='bar',\n",
    "                           y='missing values',figsize = plt.figsize, \n",
    "                           title='Missing values in the dataset(in millions)', sort_columns=True)"
   ]
  },
  {
   "cell_type": "markdown",
   "metadata": {},
   "source": [
    "We have a total of `3552912` items in the dataset i.e 3.5 million. Out of those 3.5 millions, `color_slug` is missing almost all of them, `fuel_type` is missing about 1.8 millions, and `stk_year` is missing about 1.7 million.  \n",
    "Whereas `date_created`, `date_last_seen`, and `price_eur` have no missing values."
   ]
  },
  {
   "cell_type": "markdown",
   "metadata": {},
   "source": [
    "# Treating Missing Values"
   ]
  },
  {
   "cell_type": "markdown",
   "metadata": {},
   "source": [
    "## `color_slug`\n",
    "---\n",
    "\n",
    "Almost all values in `color_slug` columns are missing so we can drop it."
   ]
  },
  {
   "cell_type": "code",
   "execution_count": 95,
   "metadata": {},
   "outputs": [
    {
     "data": {
      "text/plain": [
       "Index(['maker', 'model', 'mileage', 'manufacture_year', 'engine_displacement',\n",
       "       'engine_power', 'body_type', 'stk_year', 'transmission', 'door_count',\n",
       "       'seat_count', 'fuel_type', 'date_created', 'date_last_seen',\n",
       "       'price_eur'],\n",
       "      dtype='object')"
      ]
     },
     "execution_count": 95,
     "metadata": {},
     "output_type": "execute_result"
    }
   ],
   "source": [
    "raw_data.drop(columns=['color_slug'], inplace=True)\n",
    "raw_data.columns"
   ]
  },
  {
   "cell_type": "markdown",
   "metadata": {},
   "source": [
    "## `maker`\n",
    "---\n",
    "\n",
    "For the maker we will first find models associated with a maker and use the model to fill the maker name. For example, **Ford** has a car model **galaxy**. If we find that a car with model **galaxy** has missing maker name, we will fill it with **Ford**"
   ]
  },
  {
   "cell_type": "code",
   "execution_count": 96,
   "metadata": {
    "scrolled": false
   },
   "outputs": [
    {
     "data": {
      "text/plain": [
       "<pandas.core.groupby.generic.DataFrameGroupBy object at 0x2a4f3bd30>"
      ]
     },
     "execution_count": 96,
     "metadata": {},
     "output_type": "execute_result"
    }
   ],
   "source": [
    "grouped_by_maker = raw_data.groupby('maker')\n",
    "grouped_by_maker"
   ]
  },
  {
   "cell_type": "code",
   "execution_count": 97,
   "metadata": {},
   "outputs": [
    {
     "name": "stdout",
     "output_type": "stream",
     "text": [
      "agg        corr      cumsum     get_group  mean     pct_change  sem    transform\n",
      "aggregate  corrwith  describe   head       median   pipe        shift  tshift   \n",
      "all        count     diff       hist       min      plot        size   var      \n",
      "any        cov       expanding  idxmax     ngroup   prod        skew \n",
      "apply      cumcount  ffill      idxmin     nth      quantile    std  \n",
      "backfill   cummax    fillna     last       nunique  rank        sum  \n",
      "bfill      cummin    filter     mad        ohlc     resample    tail \n",
      "boxplot    cumprod   first      max        pad      rolling     take \n",
      "\n"
     ]
    }
   ],
   "source": [
    "import IPython\n",
    "methods_for_group = [method_name for method_name in dir(grouped_by_maker)\n",
    "                    if callable(getattr(grouped_by_maker, method_name)) & ~method_name.startswith(\"_\")]\n",
    "print(IPython.utils.text.columnize(methods_for_group))"
   ]
  },
  {
   "cell_type": "code",
   "execution_count": 98,
   "metadata": {},
   "outputs": [],
   "source": [
    "#  Lets see if instances with missing maker have a missing model\n",
    "maker_and_model = raw_data[['model', 'maker']]\n",
    "model_is_null = maker_and_model[maker_and_model['model'].isnull()].index.tolist()\n",
    "maker_is_null = maker_and_model[maker_and_model['maker'].isnull()].index.tolist()"
   ]
  },
  {
   "cell_type": "code",
   "execution_count": 99,
   "metadata": {},
   "outputs": [
    {
     "data": {
      "text/plain": [
       "518915"
      ]
     },
     "execution_count": 99,
     "metadata": {},
     "output_type": "execute_result"
    }
   ],
   "source": [
    "# getting item common to both\n",
    "\n",
    "maker_and_model_are_null = set(model_is_null).intersection(set(maker_is_null))\n",
    "maker_and_model_are_null = list(maker_and_model_are_null)\n",
    "len(maker_and_model_are_null)"
   ]
  },
  {
   "cell_type": "code",
   "execution_count": 100,
   "metadata": {},
   "outputs": [
    {
     "data": {
      "text/plain": [
       "518915"
      ]
     },
     "execution_count": 100,
     "metadata": {},
     "output_type": "execute_result"
    }
   ],
   "source": [
    "len(maker_is_null)"
   ]
  },
  {
   "cell_type": "markdown",
   "metadata": {},
   "source": [
    "From above observation we can see that whenever `model` is null, `maker` is also null. So we cannot use `model` to fill `maker`."
   ]
  },
  {
   "cell_type": "markdown",
   "metadata": {},
   "source": [
    "## `door_count`"
   ]
  },
  {
   "cell_type": "code",
   "execution_count": 101,
   "metadata": {},
   "outputs": [
    {
     "data": {
      "text/plain": [
       "<matplotlib.axes._subplots.AxesSubplot at 0x12bd59588>"
      ]
     },
     "execution_count": 101,
     "metadata": {},
     "output_type": "execute_result"
    },
    {
     "data": {
      "image/png": "[encoded data removed]",
      "text/plain": [
       "<Figure size 432x288 with 1 Axes>"
      ]
     },
     "metadata": {},
     "output_type": "display_data"
    }
   ],
   "source": [
    "raw_data['door_count'].value_counts().plot(kind='bar')"
   ]
  },
  {
   "cell_type": "markdown",
   "metadata": {},
   "source": [
    "From above, We can see that most of the cars have 4 door. So we are going to fill missing values in `door_count` with `4`."
   ]
  },
  {
   "cell_type": "code",
   "execution_count": 102,
   "metadata": {},
   "outputs": [
    {
     "data": {
      "text/plain": [
       "4       1745114\n",
       "5        894084\n",
       "None     475693\n",
       "2        307824\n",
       "3        120593\n",
       "0          8010\n",
       "6          1253\n",
       "1           273\n",
       "7            43\n",
       "55            9\n",
       "9             4\n",
       "8             3\n",
       "58            3\n",
       "22            1\n",
       "49            1\n",
       "77            1\n",
       "54            1\n",
       "17            1\n",
       "45            1\n",
       "Name: door_count, dtype: int64"
      ]
     },
     "execution_count": 102,
     "metadata": {},
     "output_type": "execute_result"
    }
   ],
   "source": [
    "# raw_data['door_count'].replace(\"None\", 4, inplace=True)\n",
    "raw_data['door_count'].fillna(value='4', inplace=True)\n",
    "raw_data['door_count'].value_counts()"
   ]
  },
  {
   "cell_type": "code",
   "execution_count": 103,
   "metadata": {},
   "outputs": [
    {
     "data": {
      "text/plain": [
       "4     2220807\n",
       "5      894084\n",
       "2      307824\n",
       "3      120593\n",
       "0        8010\n",
       "6        1253\n",
       "1         273\n",
       "7          43\n",
       "55          9\n",
       "9           4\n",
       "8           3\n",
       "58          3\n",
       "22          1\n",
       "17          1\n",
       "49          1\n",
       "77          1\n",
       "54          1\n",
       "45          1\n",
       "Name: door_count, dtype: int64"
      ]
     },
     "execution_count": 103,
     "metadata": {},
     "output_type": "execute_result"
    }
   ],
   "source": [
    "# Replacing \"None\" values with 4\n",
    "raw_data['door_count'].replace(\"None\", '4', inplace=True)\n",
    "raw_data['door_count'].value_counts()"
   ]
  },
  {
   "cell_type": "code",
   "execution_count": 104,
   "metadata": {},
   "outputs": [
    {
     "data": {
      "text/plain": [
       "0"
      ]
     },
     "execution_count": 104,
     "metadata": {},
     "output_type": "execute_result"
    }
   ],
   "source": [
    "raw_data['door_count'].isna().sum()"
   ]
  },
  {
   "cell_type": "code",
   "execution_count": 105,
   "metadata": {},
   "outputs": [
    {
     "data": {
      "text/plain": [
       "<matplotlib.axes._subplots.AxesSubplot at 0x12bb49d68>"
      ]
     },
     "execution_count": 105,
     "metadata": {},
     "output_type": "execute_result"
    },
    {
     "data": {
      "image/png": "[encoded data removed]",
      "text/plain": [
       "<Figure size 432x288 with 1 Axes>"
      ]
     },
     "metadata": {},
     "output_type": "display_data"
    }
   ],
   "source": [
    "raw_data['door_count'].value_counts().plot(kind='bar')"
   ]
  },
  {
   "cell_type": "markdown",
   "metadata": {},
   "source": [
    "Have no idea why there are two separate bars for `4` although they are both integers"
   ]
  },
  {
   "cell_type": "markdown",
   "metadata": {},
   "source": [
    "## `manufacture_year`\n",
    "Let's have a look at the column `manufacture year` and treat its missing values"
   ]
  },
  {
   "cell_type": "code",
   "execution_count": 106,
   "metadata": {},
   "outputs": [
    {
     "data": {
      "text/plain": [
       "2015.0    441383\n",
       "2012.0    246152\n",
       "2011.0    219843\n",
       "2014.0    201342\n",
       "2013.0    165305\n",
       "           ...  \n",
       "1544.0         1\n",
       "1549.0         1\n",
       "1555.0         1\n",
       "1557.0         1\n",
       "1553.0         1\n",
       "Name: manufacture_year, Length: 1640, dtype: int64"
      ]
     },
     "execution_count": 106,
     "metadata": {},
     "output_type": "execute_result"
    }
   ],
   "source": [
    "raw_data['manufacture_year'].value_counts()"
   ]
  },
  {
   "cell_type": "markdown",
   "metadata": {},
   "source": [
    "Let's check if there is any relation between the model of a car and its manufacture year\n"
   ]
  },
  {
   "cell_type": "code",
   "execution_count": 107,
   "metadata": {},
   "outputs": [],
   "source": [
    "manufacture_year_and_make = raw_data[['manufacture_year', 'model']]"
   ]
  },
  {
   "cell_type": "code",
   "execution_count": 108,
   "metadata": {},
   "outputs": [
    {
     "data": {
      "text/html": [
       "<div>\n",
       "<style scoped>\n",
       "    .dataframe tbody tr th:only-of-type {\n",
       "        vertical-align: middle;\n",
       "    }\n",
       "\n",
       "    .dataframe tbody tr th {\n",
       "        vertical-align: top;\n",
       "    }\n",
       "\n",
       "    .dataframe thead th {\n",
       "        text-align: right;\n",
       "    }\n",
       "</style>\n",
       "<table border=\"1\" class=\"dataframe\">\n",
       "  <thead>\n",
       "    <tr style=\"text-align: right;\">\n",
       "      <th></th>\n",
       "      <th>manufacture_year</th>\n",
       "      <th>model</th>\n",
       "    </tr>\n",
       "  </thead>\n",
       "  <tbody>\n",
       "    <tr>\n",
       "      <th>0</th>\n",
       "      <td>2011</td>\n",
       "      <td>galaxy</td>\n",
       "    </tr>\n",
       "    <tr>\n",
       "      <th>1</th>\n",
       "      <td>2012</td>\n",
       "      <td>octavia</td>\n",
       "    </tr>\n",
       "    <tr>\n",
       "      <th>2</th>\n",
       "      <td>2010</td>\n",
       "      <td>None</td>\n",
       "    </tr>\n",
       "    <tr>\n",
       "      <th>3</th>\n",
       "      <td>2004</td>\n",
       "      <td>fabia</td>\n",
       "    </tr>\n",
       "    <tr>\n",
       "      <th>4</th>\n",
       "      <td>2004</td>\n",
       "      <td>fabia</td>\n",
       "    </tr>\n",
       "    <tr>\n",
       "      <th>...</th>\n",
       "      <td>...</td>\n",
       "      <td>...</td>\n",
       "    </tr>\n",
       "    <tr>\n",
       "      <th>3552907</th>\n",
       "      <td>2013</td>\n",
       "      <td>roomster</td>\n",
       "    </tr>\n",
       "    <tr>\n",
       "      <th>3552908</th>\n",
       "      <td>2000</td>\n",
       "      <td>felicia</td>\n",
       "    </tr>\n",
       "    <tr>\n",
       "      <th>3552909</th>\n",
       "      <td>2006</td>\n",
       "      <td>octavia</td>\n",
       "    </tr>\n",
       "    <tr>\n",
       "      <th>3552910</th>\n",
       "      <td>2001</td>\n",
       "      <td>fabia</td>\n",
       "    </tr>\n",
       "    <tr>\n",
       "      <th>3552911</th>\n",
       "      <td>None</td>\n",
       "      <td>None</td>\n",
       "    </tr>\n",
       "  </tbody>\n",
       "</table>\n",
       "<p>3552912 rows × 2 columns</p>\n",
       "</div>"
      ],
      "text/plain": [
       "        manufacture_year     model\n",
       "0                   2011    galaxy\n",
       "1                   2012   octavia\n",
       "2                   2010      None\n",
       "3                   2004     fabia\n",
       "4                   2004     fabia\n",
       "...                  ...       ...\n",
       "3552907             2013  roomster\n",
       "3552908             2000   felicia\n",
       "3552909             2006   octavia\n",
       "3552910             2001     fabia\n",
       "3552911             None      None\n",
       "\n",
       "[3552912 rows x 2 columns]"
      ]
     },
     "execution_count": 108,
     "metadata": {},
     "output_type": "execute_result"
    }
   ],
   "source": [
    "manufacture_year_and_make.fillna('None')"
   ]
  },
  {
   "cell_type": "code",
   "execution_count": 109,
   "metadata": {},
   "outputs": [
    {
     "name": "stdout",
     "output_type": "stream",
     "text": [
      "<class 'pandas.core.frame.DataFrame'>\n",
      "RangeIndex: 3552912 entries, 0 to 3552911\n",
      "Data columns (total 2 columns):\n",
      " #   Column            Dtype  \n",
      "---  ------            -----  \n",
      " 0   manufacture_year  float64\n",
      " 1   model             object \n",
      "dtypes: float64(1), object(1)\n",
      "memory usage: 54.2+ MB\n"
     ]
    }
   ],
   "source": [
    "manufacture_year_and_make.info()"
   ]
  },
  {
   "cell_type": "code",
   "execution_count": 110,
   "metadata": {},
   "outputs": [
    {
     "name": "stderr",
     "output_type": "stream",
     "text": [
      "/Users/bhuwanbhatt/Documents/neuralnet/lib/python3.7/site-packages/ipykernel_launcher.py:1: SettingWithCopyWarning: \n",
      "A value is trying to be set on a copy of a slice from a DataFrame.\n",
      "Try using .loc[row_indexer,col_indexer] = value instead\n",
      "\n",
      "See the caveats in the documentation: https://pandas.pydata.org/pandas-docs/stable/user_guide/indexing.html#returning-a-view-versus-a-copy\n",
      "  \"\"\"Entry point for launching an IPython kernel.\n"
     ]
    }
   ],
   "source": [
    "manufacture_year_and_make['model'] = manufacture_year_and_make['model'].apply(lambda x: str(x))"
   ]
  },
  {
   "cell_type": "code",
   "execution_count": 111,
   "metadata": {},
   "outputs": [
    {
     "name": "stderr",
     "output_type": "stream",
     "text": [
      "/Users/bhuwanbhatt/Documents/neuralnet/lib/python3.7/site-packages/ipykernel_launcher.py:5: SettingWithCopyWarning: \n",
      "A value is trying to be set on a copy of a slice from a DataFrame.\n",
      "Try using .loc[row_indexer,col_indexer] = value instead\n",
      "\n",
      "See the caveats in the documentation: https://pandas.pydata.org/pandas-docs/stable/user_guide/indexing.html#returning-a-view-versus-a-copy\n",
      "  \"\"\"\n"
     ]
    },
    {
     "data": {
      "text/html": [
       "<div>\n",
       "<style scoped>\n",
       "    .dataframe tbody tr th:only-of-type {\n",
       "        vertical-align: middle;\n",
       "    }\n",
       "\n",
       "    .dataframe tbody tr th {\n",
       "        vertical-align: top;\n",
       "    }\n",
       "\n",
       "    .dataframe thead th {\n",
       "        text-align: right;\n",
       "    }\n",
       "</style>\n",
       "<table border=\"1\" class=\"dataframe\">\n",
       "  <thead>\n",
       "    <tr style=\"text-align: right;\">\n",
       "      <th></th>\n",
       "      <th>manufacture_year</th>\n",
       "      <th>model</th>\n",
       "      <th>model_encoded</th>\n",
       "    </tr>\n",
       "  </thead>\n",
       "  <tbody>\n",
       "    <tr>\n",
       "      <th>0</th>\n",
       "      <td>2011.0</td>\n",
       "      <td>galaxy</td>\n",
       "      <td>484</td>\n",
       "    </tr>\n",
       "    <tr>\n",
       "      <th>1</th>\n",
       "      <td>2012.0</td>\n",
       "      <td>octavia</td>\n",
       "      <td>680</td>\n",
       "    </tr>\n",
       "    <tr>\n",
       "      <th>2</th>\n",
       "      <td>2010.0</td>\n",
       "      <td>nan</td>\n",
       "      <td>667</td>\n",
       "    </tr>\n",
       "    <tr>\n",
       "      <th>3</th>\n",
       "      <td>2004.0</td>\n",
       "      <td>fabia</td>\n",
       "      <td>450</td>\n",
       "    </tr>\n",
       "    <tr>\n",
       "      <th>4</th>\n",
       "      <td>2004.0</td>\n",
       "      <td>fabia</td>\n",
       "      <td>450</td>\n",
       "    </tr>\n",
       "  </tbody>\n",
       "</table>\n",
       "</div>"
      ],
      "text/plain": [
       "   manufacture_year    model  model_encoded\n",
       "0            2011.0   galaxy            484\n",
       "1            2012.0  octavia            680\n",
       "2            2010.0      nan            667\n",
       "3            2004.0    fabia            450\n",
       "4            2004.0    fabia            450"
      ]
     },
     "execution_count": 111,
     "metadata": {},
     "output_type": "execute_result"
    }
   ],
   "source": [
    "# # encoding model of the car as a numerical variable\n",
    "from sklearn.preprocessing import LabelEncoder\n",
    "\n",
    "lb_make = LabelEncoder()\n",
    "manufacture_year_and_make[\"model_encoded\"] = lb_make.fit_transform(manufacture_year_and_make[\"model\"].values)\n",
    "\n",
    "manufacture_year_and_make.head()\n",
    "\n",
    "# correlation = manufacture_year_and_make.corr()"
   ]
  },
  {
   "cell_type": "code",
   "execution_count": 112,
   "metadata": {},
   "outputs": [
    {
     "data": {
      "text/html": [
       "<div>\n",
       "<style scoped>\n",
       "    .dataframe tbody tr th:only-of-type {\n",
       "        vertical-align: middle;\n",
       "    }\n",
       "\n",
       "    .dataframe tbody tr th {\n",
       "        vertical-align: top;\n",
       "    }\n",
       "\n",
       "    .dataframe thead th {\n",
       "        text-align: right;\n",
       "    }\n",
       "</style>\n",
       "<table border=\"1\" class=\"dataframe\">\n",
       "  <thead>\n",
       "    <tr style=\"text-align: right;\">\n",
       "      <th></th>\n",
       "      <th>manufacture_year</th>\n",
       "      <th>model_encoded</th>\n",
       "    </tr>\n",
       "  </thead>\n",
       "  <tbody>\n",
       "    <tr>\n",
       "      <th>manufacture_year</th>\n",
       "      <td>1.000000</td>\n",
       "      <td>0.001674</td>\n",
       "    </tr>\n",
       "    <tr>\n",
       "      <th>model_encoded</th>\n",
       "      <td>0.001674</td>\n",
       "      <td>1.000000</td>\n",
       "    </tr>\n",
       "  </tbody>\n",
       "</table>\n",
       "</div>"
      ],
      "text/plain": [
       "                  manufacture_year  model_encoded\n",
       "manufacture_year          1.000000       0.001674\n",
       "model_encoded             0.001674       1.000000"
      ]
     },
     "execution_count": 112,
     "metadata": {},
     "output_type": "execute_result"
    }
   ],
   "source": [
    "correlation = manufacture_year_and_make.corr()\n",
    "correlation"
   ]
  },
  {
   "cell_type": "markdown",
   "metadata": {},
   "source": [
    "There is low correlation so we cannot use model to fill in manufacture_year"
   ]
  },
  {
   "cell_type": "markdown",
   "metadata": {},
   "source": [
    "## `transmission`"
   ]
  },
  {
   "cell_type": "code",
   "execution_count": 113,
   "metadata": {},
   "outputs": [
    {
     "data": {
      "text/plain": [
       "man     2021990\n",
       "auto     789292\n",
       "Name: transmission, dtype: int64"
      ]
     },
     "execution_count": 113,
     "metadata": {},
     "output_type": "execute_result"
    }
   ],
   "source": [
    "raw_data['transmission'].value_counts()"
   ]
  },
  {
   "cell_type": "code",
   "execution_count": 114,
   "metadata": {},
   "outputs": [
    {
     "data": {
      "text/plain": [
       "741630"
      ]
     },
     "execution_count": 114,
     "metadata": {},
     "output_type": "execute_result"
    }
   ],
   "source": [
    "raw_data['transmission'].isna().sum()"
   ]
  },
  {
   "cell_type": "markdown",
   "metadata": {},
   "source": [
    "Ideally there should be a high correlatio between transmission type and model. Let's check it out"
   ]
  },
  {
   "cell_type": "code",
   "execution_count": 115,
   "metadata": {},
   "outputs": [
    {
     "name": "stderr",
     "output_type": "stream",
     "text": [
      "/Users/bhuwanbhatt/Documents/neuralnet/lib/python3.7/site-packages/ipykernel_launcher.py:3: SettingWithCopyWarning: \n",
      "A value is trying to be set on a copy of a slice from a DataFrame.\n",
      "Try using .loc[row_indexer,col_indexer] = value instead\n",
      "\n",
      "See the caveats in the documentation: https://pandas.pydata.org/pandas-docs/stable/user_guide/indexing.html#returning-a-view-versus-a-copy\n",
      "  This is separate from the ipykernel package so we can avoid doing imports until\n",
      "/Users/bhuwanbhatt/Documents/neuralnet/lib/python3.7/site-packages/ipykernel_launcher.py:4: SettingWithCopyWarning: \n",
      "A value is trying to be set on a copy of a slice from a DataFrame.\n",
      "Try using .loc[row_indexer,col_indexer] = value instead\n",
      "\n",
      "See the caveats in the documentation: https://pandas.pydata.org/pandas-docs/stable/user_guide/indexing.html#returning-a-view-versus-a-copy\n",
      "  after removing the cwd from sys.path.\n",
      "/Users/bhuwanbhatt/Documents/neuralnet/lib/python3.7/site-packages/ipykernel_launcher.py:7: SettingWithCopyWarning: \n",
      "A value is trying to be set on a copy of a slice from a DataFrame.\n",
      "Try using .loc[row_indexer,col_indexer] = value instead\n",
      "\n",
      "See the caveats in the documentation: https://pandas.pydata.org/pandas-docs/stable/user_guide/indexing.html#returning-a-view-versus-a-copy\n",
      "  import sys\n",
      "/Users/bhuwanbhatt/Documents/neuralnet/lib/python3.7/site-packages/ipykernel_launcher.py:8: SettingWithCopyWarning: \n",
      "A value is trying to be set on a copy of a slice from a DataFrame.\n",
      "Try using .loc[row_indexer,col_indexer] = value instead\n",
      "\n",
      "See the caveats in the documentation: https://pandas.pydata.org/pandas-docs/stable/user_guide/indexing.html#returning-a-view-versus-a-copy\n",
      "  \n"
     ]
    },
    {
     "data": {
      "text/html": [
       "<div>\n",
       "<style scoped>\n",
       "    .dataframe tbody tr th:only-of-type {\n",
       "        vertical-align: middle;\n",
       "    }\n",
       "\n",
       "    .dataframe tbody tr th {\n",
       "        vertical-align: top;\n",
       "    }\n",
       "\n",
       "    .dataframe thead th {\n",
       "        text-align: right;\n",
       "    }\n",
       "</style>\n",
       "<table border=\"1\" class=\"dataframe\">\n",
       "  <thead>\n",
       "    <tr style=\"text-align: right;\">\n",
       "      <th></th>\n",
       "      <th>model_encoded</th>\n",
       "      <th>transmission_encoded</th>\n",
       "    </tr>\n",
       "  </thead>\n",
       "  <tbody>\n",
       "    <tr>\n",
       "      <th>model_encoded</th>\n",
       "      <td>1.00000</td>\n",
       "      <td>-0.05526</td>\n",
       "    </tr>\n",
       "    <tr>\n",
       "      <th>transmission_encoded</th>\n",
       "      <td>-0.05526</td>\n",
       "      <td>1.00000</td>\n",
       "    </tr>\n",
       "  </tbody>\n",
       "</table>\n",
       "</div>"
      ],
      "text/plain": [
       "                      model_encoded  transmission_encoded\n",
       "model_encoded               1.00000              -0.05526\n",
       "transmission_encoded       -0.05526               1.00000"
      ]
     },
     "execution_count": 115,
     "metadata": {},
     "output_type": "execute_result"
    }
   ],
   "source": [
    "# # encoding model of the car as a numerical variable\n",
    "transmission_and_model = raw_data[['transmission', 'model']]\n",
    "transmission_and_model['model'] = transmission_and_model['model'].apply(lambda x: str(x))\n",
    "transmission_and_model['transmission'] = transmission_and_model['transmission'].apply(lambda x: str(x))\n",
    "\n",
    "lb_make = LabelEncoder()\n",
    "transmission_and_model[\"model_encoded\"] = lb_make.fit_transform(transmission_and_model[\"model\"])\n",
    "transmission_and_model[\"transmission_encoded\"] = lb_make.fit_transform(transmission_and_model[\"transmission\"])\n",
    "\n",
    "correlation = transmission_and_model.corr()\n",
    "correlation"
   ]
  },
  {
   "cell_type": "markdown",
   "metadata": {},
   "source": [
    "This doesn't feel right but let it be"
   ]
  },
  {
   "cell_type": "markdown",
   "metadata": {},
   "source": [
    "## `seat_count`\n",
    "---"
   ]
  },
  {
   "cell_type": "code",
   "execution_count": 116,
   "metadata": {},
   "outputs": [
    {
     "data": {
      "text/plain": [
       "5       1767868\n",
       "None     537610\n",
       "4        244797\n",
       "7        100744\n",
       "2         72685\n",
       "3         33607\n",
       "6         14174\n",
       "9         12575\n",
       "0         11695\n",
       "8          6754\n",
       "1           567\n",
       "17           39\n",
       "10           35\n",
       "12           31\n",
       "14           19\n",
       "15           19\n",
       "18           16\n",
       "19           14\n",
       "23           13\n",
       "45           13\n",
       "20           13\n",
       "21           13\n",
       "13           10\n",
       "50            9\n",
       "16            9\n",
       "55            8\n",
       "11            8\n",
       "51            7\n",
       "57            7\n",
       "58            6\n",
       "56            5\n",
       "25            4\n",
       "54            4\n",
       "24            3\n",
       "52            3\n",
       "29            3\n",
       "53            3\n",
       "36            3\n",
       "81            3\n",
       "49            2\n",
       "512           2\n",
       "33            2\n",
       "74            2\n",
       "32            2\n",
       "30            2\n",
       "44            2\n",
       "27            2\n",
       "26            1\n",
       "59            1\n",
       "515           1\n",
       "138           1\n",
       "43            1\n",
       "65            1\n",
       "85            1\n",
       "61            1\n",
       "22            1\n",
       "255           1\n",
       "517           1\n",
       "Name: seat_count, dtype: int64"
      ]
     },
     "execution_count": 116,
     "metadata": {},
     "output_type": "execute_result"
    }
   ],
   "source": [
    "raw_data['seat_count'].value_counts()"
   ]
  },
  {
   "cell_type": "code",
   "execution_count": 117,
   "metadata": {},
   "outputs": [
    {
     "data": {
      "text/plain": [
       "749489"
      ]
     },
     "execution_count": 117,
     "metadata": {},
     "output_type": "execute_result"
    }
   ],
   "source": [
    "# Fill 'None' with the most frequent value i.e 5.\n",
    "raw_data['seat_count'].replace(\"None\", '5', inplace=True)\n",
    "# Now lets check for null values\n",
    "raw_data['seat_count'].isna().sum()"
   ]
  },
  {
   "cell_type": "code",
   "execution_count": 118,
   "metadata": {},
   "outputs": [
    {
     "data": {
      "text/plain": [
       "array(['5', '4', '2', '3', '56', '7', '1', nan, '6', '9', '8', '0'],\n",
       "      dtype=object)"
      ]
     },
     "execution_count": 118,
     "metadata": {},
     "output_type": "execute_result"
    }
   ],
   "source": [
    "# Looking at a particular model\n",
    "grouped_by_model = raw_data.groupby('model')\n",
    "grouped_by_model.get_group('fabia')['seat_count'].unique()"
   ]
  },
  {
   "cell_type": "markdown",
   "metadata": {},
   "source": [
    "'0' is not possible. "
   ]
  },
  {
   "cell_type": "code",
   "execution_count": 119,
   "metadata": {},
   "outputs": [
    {
     "data": {
      "text/plain": [
       "5     60537\n",
       "4       949\n",
       "0       612\n",
       "6        18\n",
       "2        18\n",
       "7         5\n",
       "3         3\n",
       "9         2\n",
       "1         2\n",
       "56        1\n",
       "8         1\n",
       "Name: seat_count, dtype: int64"
      ]
     },
     "execution_count": 119,
     "metadata": {},
     "output_type": "execute_result"
    }
   ],
   "source": [
    "grouped_by_model.get_group('fabia')['seat_count'].value_counts()"
   ]
  },
  {
   "cell_type": "code",
   "execution_count": 120,
   "metadata": {},
   "outputs": [
    {
     "data": {
      "text/plain": [
       "0    5\n",
       "dtype: object"
      ]
     },
     "execution_count": 120,
     "metadata": {},
     "output_type": "execute_result"
    }
   ],
   "source": [
    "grouped_by_model.get_group('fabia')['seat_count'].mode()"
   ]
  },
  {
   "cell_type": "code",
   "execution_count": 121,
   "metadata": {},
   "outputs": [
    {
     "data": {
      "text/plain": [
       "7    4951\n",
       "5    3100\n",
       "6     323\n",
       "0      12\n",
       "2       6\n",
       "4       4\n",
       "3       3\n",
       "8       2\n",
       "Name: seat_count, dtype: int64"
      ]
     },
     "execution_count": 121,
     "metadata": {},
     "output_type": "execute_result"
    }
   ],
   "source": [
    "grouped_by_model.get_group('galaxy')['seat_count'].value_counts()"
   ]
  },
  {
   "cell_type": "code",
   "execution_count": 122,
   "metadata": {},
   "outputs": [
    {
     "data": {
      "text/plain": [
       "5     83090\n",
       "0      1272\n",
       "4       320\n",
       "6        47\n",
       "2        19\n",
       "7         6\n",
       "8         5\n",
       "3         4\n",
       "9         3\n",
       "1         1\n",
       "50        1\n",
       "54        1\n",
       "Name: seat_count, dtype: int64"
      ]
     },
     "execution_count": 122,
     "metadata": {},
     "output_type": "execute_result"
    }
   ],
   "source": [
    "grouped_by_model.get_group('octavia')['seat_count'].value_counts()"
   ]
  },
  {
   "cell_type": "code",
   "execution_count": 123,
   "metadata": {},
   "outputs": [
    {
     "data": {
      "text/plain": [
       "<matplotlib.axes._subplots.AxesSubplot at 0x12f4dc390>"
      ]
     },
     "execution_count": 123,
     "metadata": {},
     "output_type": "execute_result"
    },
    {
     "data": {
      "image/png": "[encoded data removed]",
      "text/plain": [
       "<Figure size 432x288 with 1 Axes>"
      ]
     },
     "metadata": {},
     "output_type": "display_data"
    }
   ],
   "source": [
    "grouped_by_model.get_group('octavia')['seat_count'].value_counts().plot(kind='bar')"
   ]
  },
  {
   "cell_type": "code",
   "execution_count": 124,
   "metadata": {
    "scrolled": false
   },
   "outputs": [
    {
     "data": {
      "text/html": [
       "<div>\n",
       "<style scoped>\n",
       "    .dataframe tbody tr th:only-of-type {\n",
       "        vertical-align: middle;\n",
       "    }\n",
       "\n",
       "    .dataframe tbody tr th {\n",
       "        vertical-align: top;\n",
       "    }\n",
       "\n",
       "    .dataframe thead th {\n",
       "        text-align: right;\n",
       "    }\n",
       "</style>\n",
       "<table border=\"1\" class=\"dataframe\">\n",
       "  <thead>\n",
       "    <tr style=\"text-align: right;\">\n",
       "      <th></th>\n",
       "      <th>maker</th>\n",
       "      <th>model</th>\n",
       "      <th>mileage</th>\n",
       "      <th>manufacture_year</th>\n",
       "      <th>engine_displacement</th>\n",
       "      <th>engine_power</th>\n",
       "      <th>body_type</th>\n",
       "      <th>stk_year</th>\n",
       "      <th>transmission</th>\n",
       "      <th>door_count</th>\n",
       "      <th>seat_count</th>\n",
       "      <th>fuel_type</th>\n",
       "      <th>date_created</th>\n",
       "      <th>date_last_seen</th>\n",
       "      <th>price_eur</th>\n",
       "    </tr>\n",
       "  </thead>\n",
       "  <tbody>\n",
       "    <tr>\n",
       "      <th>0</th>\n",
       "      <td>ford</td>\n",
       "      <td>galaxy</td>\n",
       "      <td>151000.0</td>\n",
       "      <td>2011.0</td>\n",
       "      <td>2000.0</td>\n",
       "      <td>103.0</td>\n",
       "      <td>5</td>\n",
       "      <td>None</td>\n",
       "      <td>man</td>\n",
       "      <td>5</td>\n",
       "      <td>7</td>\n",
       "      <td>diesel</td>\n",
       "      <td>2015-11-14 18:10:06.838319+00</td>\n",
       "      <td>2016-01-27 20:40:15.46361+00</td>\n",
       "      <td>10584.75</td>\n",
       "    </tr>\n",
       "    <tr>\n",
       "      <th>1</th>\n",
       "      <td>skoda</td>\n",
       "      <td>octavia</td>\n",
       "      <td>143476.0</td>\n",
       "      <td>2012.0</td>\n",
       "      <td>2000.0</td>\n",
       "      <td>81.0</td>\n",
       "      <td>5</td>\n",
       "      <td>None</td>\n",
       "      <td>man</td>\n",
       "      <td>5</td>\n",
       "      <td>5</td>\n",
       "      <td>diesel</td>\n",
       "      <td>2015-11-14 18:10:06.853411+00</td>\n",
       "      <td>2016-01-27 20:40:15.46361+00</td>\n",
       "      <td>8882.31</td>\n",
       "    </tr>\n",
       "    <tr>\n",
       "      <th>2</th>\n",
       "      <td>bmw</td>\n",
       "      <td>5</td>\n",
       "      <td>97676.0</td>\n",
       "      <td>2010.0</td>\n",
       "      <td>1995.0</td>\n",
       "      <td>85.0</td>\n",
       "      <td>5</td>\n",
       "      <td>None</td>\n",
       "      <td>man</td>\n",
       "      <td>5</td>\n",
       "      <td>5</td>\n",
       "      <td>diesel</td>\n",
       "      <td>2015-11-14 18:10:06.861792+00</td>\n",
       "      <td>2016-01-27 20:40:15.46361+00</td>\n",
       "      <td>12065.06</td>\n",
       "    </tr>\n",
       "    <tr>\n",
       "      <th>3</th>\n",
       "      <td>skoda</td>\n",
       "      <td>fabia</td>\n",
       "      <td>111970.0</td>\n",
       "      <td>2004.0</td>\n",
       "      <td>1200.0</td>\n",
       "      <td>47.0</td>\n",
       "      <td>5</td>\n",
       "      <td>None</td>\n",
       "      <td>man</td>\n",
       "      <td>5</td>\n",
       "      <td>5</td>\n",
       "      <td>gasoline</td>\n",
       "      <td>2015-11-14 18:10:06.872313+00</td>\n",
       "      <td>2016-01-27 20:40:15.46361+00</td>\n",
       "      <td>2960.77</td>\n",
       "    </tr>\n",
       "    <tr>\n",
       "      <th>4</th>\n",
       "      <td>skoda</td>\n",
       "      <td>fabia</td>\n",
       "      <td>128886.0</td>\n",
       "      <td>2004.0</td>\n",
       "      <td>1200.0</td>\n",
       "      <td>47.0</td>\n",
       "      <td>5</td>\n",
       "      <td>None</td>\n",
       "      <td>man</td>\n",
       "      <td>5</td>\n",
       "      <td>5</td>\n",
       "      <td>gasoline</td>\n",
       "      <td>2015-11-14 18:10:06.880335+00</td>\n",
       "      <td>2016-01-27 20:40:15.46361+00</td>\n",
       "      <td>2738.71</td>\n",
       "    </tr>\n",
       "    <tr>\n",
       "      <th>...</th>\n",
       "      <td>...</td>\n",
       "      <td>...</td>\n",
       "      <td>...</td>\n",
       "      <td>...</td>\n",
       "      <td>...</td>\n",
       "      <td>...</td>\n",
       "      <td>...</td>\n",
       "      <td>...</td>\n",
       "      <td>...</td>\n",
       "      <td>...</td>\n",
       "      <td>...</td>\n",
       "      <td>...</td>\n",
       "      <td>...</td>\n",
       "      <td>...</td>\n",
       "      <td>...</td>\n",
       "    </tr>\n",
       "    <tr>\n",
       "      <th>3552907</th>\n",
       "      <td>skoda</td>\n",
       "      <td>roomster</td>\n",
       "      <td>54000.0</td>\n",
       "      <td>2013.0</td>\n",
       "      <td>1200.0</td>\n",
       "      <td>63.0</td>\n",
       "      <td>other</td>\n",
       "      <td>5</td>\n",
       "      <td>5</td>\n",
       "      <td>4</td>\n",
       "      <td>5</td>\n",
       "      <td>5</td>\n",
       "      <td>2017-03-16 18:57:35.46558+00</td>\n",
       "      <td>2017-03-16 18:57:35.46558+00</td>\n",
       "      <td>1295.34</td>\n",
       "    </tr>\n",
       "    <tr>\n",
       "      <th>3552908</th>\n",
       "      <td>skoda</td>\n",
       "      <td>felicia</td>\n",
       "      <td>5.0</td>\n",
       "      <td>2000.0</td>\n",
       "      <td>5.0</td>\n",
       "      <td>50.0</td>\n",
       "      <td>other</td>\n",
       "      <td>5</td>\n",
       "      <td>5</td>\n",
       "      <td>4</td>\n",
       "      <td>5</td>\n",
       "      <td>electric</td>\n",
       "      <td>2017-03-16 18:57:37.761349+00</td>\n",
       "      <td>2017-03-16 18:57:37.761349+00</td>\n",
       "      <td>1295.34</td>\n",
       "    </tr>\n",
       "    <tr>\n",
       "      <th>3552909</th>\n",
       "      <td>skoda</td>\n",
       "      <td>octavia</td>\n",
       "      <td>230000.0</td>\n",
       "      <td>2006.0</td>\n",
       "      <td>1900.0</td>\n",
       "      <td>100.0</td>\n",
       "      <td>other</td>\n",
       "      <td>5</td>\n",
       "      <td>5</td>\n",
       "      <td>4</td>\n",
       "      <td>5</td>\n",
       "      <td>5</td>\n",
       "      <td>2017-03-16 18:57:40.435847+00</td>\n",
       "      <td>2017-03-16 18:57:40.435847+00</td>\n",
       "      <td>1295.34</td>\n",
       "    </tr>\n",
       "    <tr>\n",
       "      <th>3552910</th>\n",
       "      <td>skoda</td>\n",
       "      <td>fabia</td>\n",
       "      <td>5.0</td>\n",
       "      <td>2001.0</td>\n",
       "      <td>5.0</td>\n",
       "      <td>5.0</td>\n",
       "      <td>other</td>\n",
       "      <td>5</td>\n",
       "      <td>5</td>\n",
       "      <td>4</td>\n",
       "      <td>5</td>\n",
       "      <td>5</td>\n",
       "      <td>2017-03-16 18:57:43.595523+00</td>\n",
       "      <td>2017-03-16 18:57:43.595523+00</td>\n",
       "      <td>1295.34</td>\n",
       "    </tr>\n",
       "    <tr>\n",
       "      <th>3552911</th>\n",
       "      <td>mercedes-benz</td>\n",
       "      <td>5</td>\n",
       "      <td>5.0</td>\n",
       "      <td>5.0</td>\n",
       "      <td>5.0</td>\n",
       "      <td>5.0</td>\n",
       "      <td>other</td>\n",
       "      <td>5</td>\n",
       "      <td>5</td>\n",
       "      <td>4</td>\n",
       "      <td>5</td>\n",
       "      <td>5</td>\n",
       "      <td>2017-03-16 19:22:23.946774+00</td>\n",
       "      <td>2017-03-16 19:22:23.946774+00</td>\n",
       "      <td>1295.34</td>\n",
       "    </tr>\n",
       "  </tbody>\n",
       "</table>\n",
       "<p>3552912 rows × 15 columns</p>\n",
       "</div>"
      ],
      "text/plain": [
       "                 maker     model   mileage  manufacture_year  \\\n",
       "0                 ford    galaxy  151000.0            2011.0   \n",
       "1                skoda   octavia  143476.0            2012.0   \n",
       "2                  bmw         5   97676.0            2010.0   \n",
       "3                skoda     fabia  111970.0            2004.0   \n",
       "4                skoda     fabia  128886.0            2004.0   \n",
       "...                ...       ...       ...               ...   \n",
       "3552907          skoda  roomster   54000.0            2013.0   \n",
       "3552908          skoda   felicia       5.0            2000.0   \n",
       "3552909          skoda   octavia  230000.0            2006.0   \n",
       "3552910          skoda     fabia       5.0            2001.0   \n",
       "3552911  mercedes-benz         5       5.0               5.0   \n",
       "\n",
       "         engine_displacement  engine_power body_type stk_year transmission  \\\n",
       "0                     2000.0         103.0         5     None          man   \n",
       "1                     2000.0          81.0         5     None          man   \n",
       "2                     1995.0          85.0         5     None          man   \n",
       "3                     1200.0          47.0         5     None          man   \n",
       "4                     1200.0          47.0         5     None          man   \n",
       "...                      ...           ...       ...      ...          ...   \n",
       "3552907               1200.0          63.0     other        5            5   \n",
       "3552908                  5.0          50.0     other        5            5   \n",
       "3552909               1900.0         100.0     other        5            5   \n",
       "3552910                  5.0           5.0     other        5            5   \n",
       "3552911                  5.0           5.0     other        5            5   \n",
       "\n",
       "        door_count seat_count fuel_type                   date_created  \\\n",
       "0                5          7    diesel  2015-11-14 18:10:06.838319+00   \n",
       "1                5          5    diesel  2015-11-14 18:10:06.853411+00   \n",
       "2                5          5    diesel  2015-11-14 18:10:06.861792+00   \n",
       "3                5          5  gasoline  2015-11-14 18:10:06.872313+00   \n",
       "4                5          5  gasoline  2015-11-14 18:10:06.880335+00   \n",
       "...            ...        ...       ...                            ...   \n",
       "3552907          4          5         5   2017-03-16 18:57:35.46558+00   \n",
       "3552908          4          5  electric  2017-03-16 18:57:37.761349+00   \n",
       "3552909          4          5         5  2017-03-16 18:57:40.435847+00   \n",
       "3552910          4          5         5  2017-03-16 18:57:43.595523+00   \n",
       "3552911          4          5         5  2017-03-16 19:22:23.946774+00   \n",
       "\n",
       "                        date_last_seen  price_eur  \n",
       "0         2016-01-27 20:40:15.46361+00   10584.75  \n",
       "1         2016-01-27 20:40:15.46361+00    8882.31  \n",
       "2         2016-01-27 20:40:15.46361+00   12065.06  \n",
       "3         2016-01-27 20:40:15.46361+00    2960.77  \n",
       "4         2016-01-27 20:40:15.46361+00    2738.71  \n",
       "...                                ...        ...  \n",
       "3552907   2017-03-16 18:57:35.46558+00    1295.34  \n",
       "3552908  2017-03-16 18:57:37.761349+00    1295.34  \n",
       "3552909  2017-03-16 18:57:40.435847+00    1295.34  \n",
       "3552910  2017-03-16 18:57:43.595523+00    1295.34  \n",
       "3552911  2017-03-16 19:22:23.946774+00    1295.34  \n",
       "\n",
       "[3552912 rows x 15 columns]"
      ]
     },
     "execution_count": 124,
     "metadata": {},
     "output_type": "execute_result"
    }
   ],
   "source": [
    "# Lets replace 0 with 5 and fill nan values with 5\n",
    "raw_data['seat_count'].replace(\"0\", '5', inplace=True)\n",
    "raw_data.fillna(value=5)"
   ]
  },
  {
   "cell_type": "code",
   "execution_count": 125,
   "metadata": {},
   "outputs": [],
   "source": [
    "raw_data['seat_count'] = pd.to_numeric(raw_data['seat_count'])"
   ]
  },
  {
   "cell_type": "code",
   "execution_count": 126,
   "metadata": {},
   "outputs": [
    {
     "data": {
      "text/plain": [
       "5.0     2317173\n",
       "4.0      244797\n",
       "7.0      100744\n",
       "2.0       72685\n",
       "3.0       33607\n",
       "6.0       14174\n",
       "9.0       12575\n",
       "8.0        6754\n",
       "1.0         567\n",
       "10.0        347\n",
       "Name: seat_count, dtype: int64"
      ]
     },
     "execution_count": 126,
     "metadata": {},
     "output_type": "execute_result"
    }
   ],
   "source": [
    "# Let's instances having seat above 10 as 10\n",
    "filt = raw_data['seat_count'] > 10 # filt for filter\n",
    "raw_data[filt]=10\n",
    "raw_data['seat_count'].value_counts()"
   ]
  },
  {
   "cell_type": "markdown",
   "metadata": {},
   "source": []
  },
  {
   "cell_type": "markdown",
   "metadata": {},
   "source": [
    "## `engine_displacement`"
   ]
  },
  {
   "cell_type": "code",
   "execution_count": 127,
   "metadata": {},
   "outputs": [
    {
     "data": {
      "text/html": [
       "<div>\n",
       "<style scoped>\n",
       "    .dataframe tbody tr th:only-of-type {\n",
       "        vertical-align: middle;\n",
       "    }\n",
       "\n",
       "    .dataframe tbody tr th {\n",
       "        vertical-align: top;\n",
       "    }\n",
       "\n",
       "    .dataframe thead th {\n",
       "        text-align: right;\n",
       "    }\n",
       "</style>\n",
       "<table border=\"1\" class=\"dataframe\">\n",
       "  <thead>\n",
       "    <tr style=\"text-align: right;\">\n",
       "      <th></th>\n",
       "      <th>maker</th>\n",
       "      <th>model</th>\n",
       "      <th>mileage</th>\n",
       "      <th>manufacture_year</th>\n",
       "      <th>engine_displacement</th>\n",
       "      <th>engine_power</th>\n",
       "      <th>body_type</th>\n",
       "      <th>stk_year</th>\n",
       "      <th>transmission</th>\n",
       "      <th>door_count</th>\n",
       "      <th>seat_count</th>\n",
       "      <th>fuel_type</th>\n",
       "      <th>date_created</th>\n",
       "      <th>date_last_seen</th>\n",
       "      <th>price_eur</th>\n",
       "    </tr>\n",
       "  </thead>\n",
       "  <tbody>\n",
       "    <tr>\n",
       "      <th>0</th>\n",
       "      <td>ford</td>\n",
       "      <td>galaxy</td>\n",
       "      <td>151000.0</td>\n",
       "      <td>2011.0</td>\n",
       "      <td>2000.0</td>\n",
       "      <td>103.0</td>\n",
       "      <td>NaN</td>\n",
       "      <td>None</td>\n",
       "      <td>man</td>\n",
       "      <td>5</td>\n",
       "      <td>7.0</td>\n",
       "      <td>diesel</td>\n",
       "      <td>2015-11-14 18:10:06.838319+00</td>\n",
       "      <td>2016-01-27 20:40:15.46361+00</td>\n",
       "      <td>10584.75</td>\n",
       "    </tr>\n",
       "    <tr>\n",
       "      <th>37</th>\n",
       "      <td>ford</td>\n",
       "      <td>galaxy</td>\n",
       "      <td>160235.0</td>\n",
       "      <td>2012.0</td>\n",
       "      <td>1600.0</td>\n",
       "      <td>85.0</td>\n",
       "      <td>NaN</td>\n",
       "      <td>None</td>\n",
       "      <td>man</td>\n",
       "      <td>5</td>\n",
       "      <td>5.0</td>\n",
       "      <td>diesel</td>\n",
       "      <td>2015-11-14 18:10:08.286696+00</td>\n",
       "      <td>2016-01-27 20:40:15.46361+00</td>\n",
       "      <td>11102.89</td>\n",
       "    </tr>\n",
       "    <tr>\n",
       "      <th>189</th>\n",
       "      <td>ford</td>\n",
       "      <td>galaxy</td>\n",
       "      <td>156000.0</td>\n",
       "      <td>2007.0</td>\n",
       "      <td>1997.0</td>\n",
       "      <td>103.0</td>\n",
       "      <td>NaN</td>\n",
       "      <td>None</td>\n",
       "      <td>man</td>\n",
       "      <td>5</td>\n",
       "      <td>7.0</td>\n",
       "      <td>diesel</td>\n",
       "      <td>2015-11-14 18:55:21.675815+00</td>\n",
       "      <td>2016-01-27 20:40:15.46361+00</td>\n",
       "      <td>7949.67</td>\n",
       "    </tr>\n",
       "    <tr>\n",
       "      <th>192</th>\n",
       "      <td>ford</td>\n",
       "      <td>galaxy</td>\n",
       "      <td>167000.0</td>\n",
       "      <td>2012.0</td>\n",
       "      <td>2179.0</td>\n",
       "      <td>147.0</td>\n",
       "      <td>NaN</td>\n",
       "      <td>None</td>\n",
       "      <td>man</td>\n",
       "      <td>5</td>\n",
       "      <td>7.0</td>\n",
       "      <td>diesel</td>\n",
       "      <td>2015-11-14 18:55:21.744625+00</td>\n",
       "      <td>2016-01-27 20:40:15.46361+00</td>\n",
       "      <td>14796.45</td>\n",
       "    </tr>\n",
       "    <tr>\n",
       "      <th>514</th>\n",
       "      <td>ford</td>\n",
       "      <td>galaxy</td>\n",
       "      <td>254448.0</td>\n",
       "      <td>2004.0</td>\n",
       "      <td>1896.0</td>\n",
       "      <td>96.0</td>\n",
       "      <td>NaN</td>\n",
       "      <td>None</td>\n",
       "      <td>man</td>\n",
       "      <td>5</td>\n",
       "      <td>7.0</td>\n",
       "      <td>diesel</td>\n",
       "      <td>2015-11-14 18:55:34.371192+00</td>\n",
       "      <td>2016-01-27 20:40:15.46361+00</td>\n",
       "      <td>5514.40</td>\n",
       "    </tr>\n",
       "    <tr>\n",
       "      <th>...</th>\n",
       "      <td>...</td>\n",
       "      <td>...</td>\n",
       "      <td>...</td>\n",
       "      <td>...</td>\n",
       "      <td>...</td>\n",
       "      <td>...</td>\n",
       "      <td>...</td>\n",
       "      <td>...</td>\n",
       "      <td>...</td>\n",
       "      <td>...</td>\n",
       "      <td>...</td>\n",
       "      <td>...</td>\n",
       "      <td>...</td>\n",
       "      <td>...</td>\n",
       "      <td>...</td>\n",
       "    </tr>\n",
       "    <tr>\n",
       "      <th>3551869</th>\n",
       "      <td>ford</td>\n",
       "      <td>galaxy</td>\n",
       "      <td>215000.0</td>\n",
       "      <td>2001.0</td>\n",
       "      <td>1896.0</td>\n",
       "      <td>85.0</td>\n",
       "      <td>other</td>\n",
       "      <td>2018</td>\n",
       "      <td>man</td>\n",
       "      <td>4</td>\n",
       "      <td>NaN</td>\n",
       "      <td>diesel</td>\n",
       "      <td>2017-03-16 17:48:21.363492+00</td>\n",
       "      <td>2017-03-16 17:48:21.363492+00</td>\n",
       "      <td>1295.34</td>\n",
       "    </tr>\n",
       "    <tr>\n",
       "      <th>3551914</th>\n",
       "      <td>ford</td>\n",
       "      <td>galaxy</td>\n",
       "      <td>282000.0</td>\n",
       "      <td>2000.0</td>\n",
       "      <td>1900.0</td>\n",
       "      <td>85.0</td>\n",
       "      <td>other</td>\n",
       "      <td>2017</td>\n",
       "      <td>man</td>\n",
       "      <td>4</td>\n",
       "      <td>NaN</td>\n",
       "      <td>diesel</td>\n",
       "      <td>2017-03-16 17:49:45.742793+00</td>\n",
       "      <td>2017-03-16 17:49:45.742793+00</td>\n",
       "      <td>1295.34</td>\n",
       "    </tr>\n",
       "    <tr>\n",
       "      <th>3551920</th>\n",
       "      <td>ford</td>\n",
       "      <td>galaxy</td>\n",
       "      <td>NaN</td>\n",
       "      <td>2003.0</td>\n",
       "      <td>1900.0</td>\n",
       "      <td>85.0</td>\n",
       "      <td>other</td>\n",
       "      <td>NaN</td>\n",
       "      <td>man</td>\n",
       "      <td>4</td>\n",
       "      <td>NaN</td>\n",
       "      <td>diesel</td>\n",
       "      <td>2017-03-16 17:49:55.308871+00</td>\n",
       "      <td>2017-03-16 17:49:55.308871+00</td>\n",
       "      <td>1295.34</td>\n",
       "    </tr>\n",
       "    <tr>\n",
       "      <th>3552056</th>\n",
       "      <td>ford</td>\n",
       "      <td>galaxy</td>\n",
       "      <td>294000.0</td>\n",
       "      <td>2000.0</td>\n",
       "      <td>1900.0</td>\n",
       "      <td>81.0</td>\n",
       "      <td>other</td>\n",
       "      <td>2018</td>\n",
       "      <td>man</td>\n",
       "      <td>4</td>\n",
       "      <td>NaN</td>\n",
       "      <td>diesel</td>\n",
       "      <td>2017-03-16 17:56:00.126296+00</td>\n",
       "      <td>2017-03-16 17:56:00.126296+00</td>\n",
       "      <td>1295.34</td>\n",
       "    </tr>\n",
       "    <tr>\n",
       "      <th>3552070</th>\n",
       "      <td>ford</td>\n",
       "      <td>galaxy</td>\n",
       "      <td>138000.0</td>\n",
       "      <td>NaN</td>\n",
       "      <td>NaN</td>\n",
       "      <td>85.0</td>\n",
       "      <td>other</td>\n",
       "      <td>NaN</td>\n",
       "      <td>NaN</td>\n",
       "      <td>4</td>\n",
       "      <td>NaN</td>\n",
       "      <td>diesel</td>\n",
       "      <td>2017-03-16 17:57:08.019341+00</td>\n",
       "      <td>2017-03-16 17:57:08.019341+00</td>\n",
       "      <td>1295.34</td>\n",
       "    </tr>\n",
       "  </tbody>\n",
       "</table>\n",
       "<p>3427 rows × 15 columns</p>\n",
       "</div>"
      ],
      "text/plain": [
       "        maker   model   mileage  manufacture_year  engine_displacement  \\\n",
       "0        ford  galaxy  151000.0            2011.0               2000.0   \n",
       "37       ford  galaxy  160235.0            2012.0               1600.0   \n",
       "189      ford  galaxy  156000.0            2007.0               1997.0   \n",
       "192      ford  galaxy  167000.0            2012.0               2179.0   \n",
       "514      ford  galaxy  254448.0            2004.0               1896.0   \n",
       "...       ...     ...       ...               ...                  ...   \n",
       "3551869  ford  galaxy  215000.0            2001.0               1896.0   \n",
       "3551914  ford  galaxy  282000.0            2000.0               1900.0   \n",
       "3551920  ford  galaxy       NaN            2003.0               1900.0   \n",
       "3552056  ford  galaxy  294000.0            2000.0               1900.0   \n",
       "3552070  ford  galaxy  138000.0               NaN                  NaN   \n",
       "\n",
       "         engine_power body_type stk_year transmission door_count  seat_count  \\\n",
       "0               103.0       NaN     None          man          5         7.0   \n",
       "37               85.0       NaN     None          man          5         5.0   \n",
       "189             103.0       NaN     None          man          5         7.0   \n",
       "192             147.0       NaN     None          man          5         7.0   \n",
       "514              96.0       NaN     None          man          5         7.0   \n",
       "...               ...       ...      ...          ...        ...         ...   \n",
       "3551869          85.0     other     2018          man          4         NaN   \n",
       "3551914          85.0     other     2017          man          4         NaN   \n",
       "3551920          85.0     other      NaN          man          4         NaN   \n",
       "3552056          81.0     other     2018          man          4         NaN   \n",
       "3552070          85.0     other      NaN          NaN          4         NaN   \n",
       "\n",
       "        fuel_type                   date_created  \\\n",
       "0          diesel  2015-11-14 18:10:06.838319+00   \n",
       "37         diesel  2015-11-14 18:10:08.286696+00   \n",
       "189        diesel  2015-11-14 18:55:21.675815+00   \n",
       "192        diesel  2015-11-14 18:55:21.744625+00   \n",
       "514        diesel  2015-11-14 18:55:34.371192+00   \n",
       "...           ...                            ...   \n",
       "3551869    diesel  2017-03-16 17:48:21.363492+00   \n",
       "3551914    diesel  2017-03-16 17:49:45.742793+00   \n",
       "3551920    diesel  2017-03-16 17:49:55.308871+00   \n",
       "3552056    diesel  2017-03-16 17:56:00.126296+00   \n",
       "3552070    diesel  2017-03-16 17:57:08.019341+00   \n",
       "\n",
       "                        date_last_seen  price_eur  \n",
       "0         2016-01-27 20:40:15.46361+00   10584.75  \n",
       "37        2016-01-27 20:40:15.46361+00   11102.89  \n",
       "189       2016-01-27 20:40:15.46361+00    7949.67  \n",
       "192       2016-01-27 20:40:15.46361+00   14796.45  \n",
       "514       2016-01-27 20:40:15.46361+00    5514.40  \n",
       "...                                ...        ...  \n",
       "3551869  2017-03-16 17:48:21.363492+00    1295.34  \n",
       "3551914  2017-03-16 17:49:45.742793+00    1295.34  \n",
       "3551920  2017-03-16 17:49:55.308871+00    1295.34  \n",
       "3552056  2017-03-16 17:56:00.126296+00    1295.34  \n",
       "3552070  2017-03-16 17:57:08.019341+00    1295.34  \n",
       "\n",
       "[3427 rows x 15 columns]"
      ]
     },
     "execution_count": 127,
     "metadata": {},
     "output_type": "execute_result"
    }
   ],
   "source": [
    "model_fule_type_group = raw_data.groupby(['model', 'fuel_type'])\n",
    "model_fule_type_group.get_group(('galaxy', 'diesel'))"
   ]
  },
  {
   "cell_type": "markdown",
   "metadata": {},
   "source": [
    "It is seen that there is no relationship between engine_displacement and model, fuel_type. Let's check if there is any relation with body type. "
   ]
  },
  {
   "cell_type": "code",
   "execution_count": 128,
   "metadata": {},
   "outputs": [
    {
     "data": {
      "text/plain": [
       "van             1097\n",
       "other            280\n",
       "compact          127\n",
       "stationwagon      63\n",
       "offroad            5\n",
       "transporter        2\n",
       "sedan              1\n",
       "coupe              1\n",
       "Name: body_type, dtype: int64"
      ]
     },
     "execution_count": 128,
     "metadata": {},
     "output_type": "execute_result"
    }
   ],
   "source": [
    "model_fule_type_group.get_group(('galaxy', 'diesel'))['body_type'].value_counts()"
   ]
  },
  {
   "cell_type": "markdown",
   "metadata": {},
   "source": [
    "From above observatio it is obvious that a car from same brand with same model and fuel_type can have different body_type. Let's check a few others to verify it"
   ]
  },
  {
   "cell_type": "code",
   "execution_count": 129,
   "metadata": {},
   "outputs": [
    {
     "data": {
      "text/html": [
       "<div>\n",
       "<style scoped>\n",
       "    .dataframe tbody tr th:only-of-type {\n",
       "        vertical-align: middle;\n",
       "    }\n",
       "\n",
       "    .dataframe tbody tr th {\n",
       "        vertical-align: top;\n",
       "    }\n",
       "\n",
       "    .dataframe thead th {\n",
       "        text-align: right;\n",
       "    }\n",
       "</style>\n",
       "<table border=\"1\" class=\"dataframe\">\n",
       "  <thead>\n",
       "    <tr style=\"text-align: right;\">\n",
       "      <th></th>\n",
       "      <th>maker</th>\n",
       "      <th>model</th>\n",
       "      <th>mileage</th>\n",
       "      <th>manufacture_year</th>\n",
       "      <th>engine_displacement</th>\n",
       "      <th>engine_power</th>\n",
       "      <th>body_type</th>\n",
       "      <th>stk_year</th>\n",
       "      <th>transmission</th>\n",
       "      <th>door_count</th>\n",
       "      <th>seat_count</th>\n",
       "      <th>fuel_type</th>\n",
       "      <th>date_created</th>\n",
       "      <th>date_last_seen</th>\n",
       "      <th>price_eur</th>\n",
       "    </tr>\n",
       "  </thead>\n",
       "  <tbody>\n",
       "    <tr>\n",
       "      <th>3</th>\n",
       "      <td>skoda</td>\n",
       "      <td>fabia</td>\n",
       "      <td>111970.0</td>\n",
       "      <td>2004.0</td>\n",
       "      <td>1200.0</td>\n",
       "      <td>47.0</td>\n",
       "      <td>NaN</td>\n",
       "      <td>None</td>\n",
       "      <td>man</td>\n",
       "      <td>5</td>\n",
       "      <td>5.0</td>\n",
       "      <td>gasoline</td>\n",
       "      <td>2015-11-14 18:10:06.872313+00</td>\n",
       "      <td>2016-01-27 20:40:15.46361+00</td>\n",
       "      <td>2960.77</td>\n",
       "    </tr>\n",
       "    <tr>\n",
       "      <th>4</th>\n",
       "      <td>skoda</td>\n",
       "      <td>fabia</td>\n",
       "      <td>128886.0</td>\n",
       "      <td>2004.0</td>\n",
       "      <td>1200.0</td>\n",
       "      <td>47.0</td>\n",
       "      <td>NaN</td>\n",
       "      <td>None</td>\n",
       "      <td>man</td>\n",
       "      <td>5</td>\n",
       "      <td>5.0</td>\n",
       "      <td>gasoline</td>\n",
       "      <td>2015-11-14 18:10:06.880335+00</td>\n",
       "      <td>2016-01-27 20:40:15.46361+00</td>\n",
       "      <td>2738.71</td>\n",
       "    </tr>\n",
       "    <tr>\n",
       "      <th>5</th>\n",
       "      <td>skoda</td>\n",
       "      <td>fabia</td>\n",
       "      <td>140932.0</td>\n",
       "      <td>2003.0</td>\n",
       "      <td>1200.0</td>\n",
       "      <td>40.0</td>\n",
       "      <td>NaN</td>\n",
       "      <td>None</td>\n",
       "      <td>man</td>\n",
       "      <td>5</td>\n",
       "      <td>5.0</td>\n",
       "      <td>gasoline</td>\n",
       "      <td>2015-11-14 18:10:06.894643+00</td>\n",
       "      <td>2016-01-27 20:40:15.46361+00</td>\n",
       "      <td>1628.42</td>\n",
       "    </tr>\n",
       "    <tr>\n",
       "      <th>6</th>\n",
       "      <td>skoda</td>\n",
       "      <td>fabia</td>\n",
       "      <td>167220.0</td>\n",
       "      <td>2001.0</td>\n",
       "      <td>1400.0</td>\n",
       "      <td>74.0</td>\n",
       "      <td>NaN</td>\n",
       "      <td>None</td>\n",
       "      <td>man</td>\n",
       "      <td>5</td>\n",
       "      <td>5.0</td>\n",
       "      <td>gasoline</td>\n",
       "      <td>2015-11-14 18:10:06.915376+00</td>\n",
       "      <td>2016-01-27 20:40:15.46361+00</td>\n",
       "      <td>2072.54</td>\n",
       "    </tr>\n",
       "    <tr>\n",
       "      <th>19</th>\n",
       "      <td>skoda</td>\n",
       "      <td>fabia</td>\n",
       "      <td>87257.0</td>\n",
       "      <td>2008.0</td>\n",
       "      <td>1200.0</td>\n",
       "      <td>44.0</td>\n",
       "      <td>NaN</td>\n",
       "      <td>None</td>\n",
       "      <td>man</td>\n",
       "      <td>5</td>\n",
       "      <td>5.0</td>\n",
       "      <td>gasoline</td>\n",
       "      <td>2015-11-14 18:10:07.627383+00</td>\n",
       "      <td>2016-01-27 20:40:15.46361+00</td>\n",
       "      <td>4219.10</td>\n",
       "    </tr>\n",
       "    <tr>\n",
       "      <th>...</th>\n",
       "      <td>...</td>\n",
       "      <td>...</td>\n",
       "      <td>...</td>\n",
       "      <td>...</td>\n",
       "      <td>...</td>\n",
       "      <td>...</td>\n",
       "      <td>...</td>\n",
       "      <td>...</td>\n",
       "      <td>...</td>\n",
       "      <td>...</td>\n",
       "      <td>...</td>\n",
       "      <td>...</td>\n",
       "      <td>...</td>\n",
       "      <td>...</td>\n",
       "      <td>...</td>\n",
       "    </tr>\n",
       "    <tr>\n",
       "      <th>3552717</th>\n",
       "      <td>skoda</td>\n",
       "      <td>fabia</td>\n",
       "      <td>15000.0</td>\n",
       "      <td>2010.0</td>\n",
       "      <td>1198.0</td>\n",
       "      <td>51.0</td>\n",
       "      <td>other</td>\n",
       "      <td>2018</td>\n",
       "      <td>man</td>\n",
       "      <td>4</td>\n",
       "      <td>NaN</td>\n",
       "      <td>gasoline</td>\n",
       "      <td>2017-03-16 18:45:03.733844+00</td>\n",
       "      <td>2017-03-16 18:45:03.733844+00</td>\n",
       "      <td>1295.34</td>\n",
       "    </tr>\n",
       "    <tr>\n",
       "      <th>3552727</th>\n",
       "      <td>skoda</td>\n",
       "      <td>fabia</td>\n",
       "      <td>134000.0</td>\n",
       "      <td>2003.0</td>\n",
       "      <td>1198.0</td>\n",
       "      <td>40.0</td>\n",
       "      <td>other</td>\n",
       "      <td>2019</td>\n",
       "      <td>man</td>\n",
       "      <td>4</td>\n",
       "      <td>NaN</td>\n",
       "      <td>gasoline</td>\n",
       "      <td>2017-03-16 18:45:49.303314+00</td>\n",
       "      <td>2017-03-16 18:45:49.303314+00</td>\n",
       "      <td>1295.34</td>\n",
       "    </tr>\n",
       "    <tr>\n",
       "      <th>3552815</th>\n",
       "      <td>skoda</td>\n",
       "      <td>fabia</td>\n",
       "      <td>97500.0</td>\n",
       "      <td>2007.0</td>\n",
       "      <td>1400.0</td>\n",
       "      <td>51.0</td>\n",
       "      <td>other</td>\n",
       "      <td>NaN</td>\n",
       "      <td>NaN</td>\n",
       "      <td>4</td>\n",
       "      <td>NaN</td>\n",
       "      <td>gasoline</td>\n",
       "      <td>2017-03-16 18:52:19.312366+00</td>\n",
       "      <td>2017-03-16 18:52:19.312366+00</td>\n",
       "      <td>1295.34</td>\n",
       "    </tr>\n",
       "    <tr>\n",
       "      <th>3552827</th>\n",
       "      <td>skoda</td>\n",
       "      <td>fabia</td>\n",
       "      <td>107150.0</td>\n",
       "      <td>2002.0</td>\n",
       "      <td>1397.0</td>\n",
       "      <td>44.0</td>\n",
       "      <td>other</td>\n",
       "      <td>NaN</td>\n",
       "      <td>man</td>\n",
       "      <td>4</td>\n",
       "      <td>NaN</td>\n",
       "      <td>gasoline</td>\n",
       "      <td>2017-03-16 18:53:22.19403+00</td>\n",
       "      <td>2017-03-16 18:53:22.19403+00</td>\n",
       "      <td>1295.34</td>\n",
       "    </tr>\n",
       "    <tr>\n",
       "      <th>3552871</th>\n",
       "      <td>skoda</td>\n",
       "      <td>fabia</td>\n",
       "      <td>NaN</td>\n",
       "      <td>2002.0</td>\n",
       "      <td>NaN</td>\n",
       "      <td>44.0</td>\n",
       "      <td>other</td>\n",
       "      <td>2018</td>\n",
       "      <td>man</td>\n",
       "      <td>4</td>\n",
       "      <td>NaN</td>\n",
       "      <td>gasoline</td>\n",
       "      <td>2017-03-16 18:55:50.942068+00</td>\n",
       "      <td>2017-03-16 18:55:50.942068+00</td>\n",
       "      <td>1295.34</td>\n",
       "    </tr>\n",
       "  </tbody>\n",
       "</table>\n",
       "<p>34752 rows × 15 columns</p>\n",
       "</div>"
      ],
      "text/plain": [
       "         maker  model   mileage  manufacture_year  engine_displacement  \\\n",
       "3        skoda  fabia  111970.0            2004.0               1200.0   \n",
       "4        skoda  fabia  128886.0            2004.0               1200.0   \n",
       "5        skoda  fabia  140932.0            2003.0               1200.0   \n",
       "6        skoda  fabia  167220.0            2001.0               1400.0   \n",
       "19       skoda  fabia   87257.0            2008.0               1200.0   \n",
       "...        ...    ...       ...               ...                  ...   \n",
       "3552717  skoda  fabia   15000.0            2010.0               1198.0   \n",
       "3552727  skoda  fabia  134000.0            2003.0               1198.0   \n",
       "3552815  skoda  fabia   97500.0            2007.0               1400.0   \n",
       "3552827  skoda  fabia  107150.0            2002.0               1397.0   \n",
       "3552871  skoda  fabia       NaN            2002.0                  NaN   \n",
       "\n",
       "         engine_power body_type stk_year transmission door_count  seat_count  \\\n",
       "3                47.0       NaN     None          man          5         5.0   \n",
       "4                47.0       NaN     None          man          5         5.0   \n",
       "5                40.0       NaN     None          man          5         5.0   \n",
       "6                74.0       NaN     None          man          5         5.0   \n",
       "19               44.0       NaN     None          man          5         5.0   \n",
       "...               ...       ...      ...          ...        ...         ...   \n",
       "3552717          51.0     other     2018          man          4         NaN   \n",
       "3552727          40.0     other     2019          man          4         NaN   \n",
       "3552815          51.0     other      NaN          NaN          4         NaN   \n",
       "3552827          44.0     other      NaN          man          4         NaN   \n",
       "3552871          44.0     other     2018          man          4         NaN   \n",
       "\n",
       "        fuel_type                   date_created  \\\n",
       "3        gasoline  2015-11-14 18:10:06.872313+00   \n",
       "4        gasoline  2015-11-14 18:10:06.880335+00   \n",
       "5        gasoline  2015-11-14 18:10:06.894643+00   \n",
       "6        gasoline  2015-11-14 18:10:06.915376+00   \n",
       "19       gasoline  2015-11-14 18:10:07.627383+00   \n",
       "...           ...                            ...   \n",
       "3552717  gasoline  2017-03-16 18:45:03.733844+00   \n",
       "3552727  gasoline  2017-03-16 18:45:49.303314+00   \n",
       "3552815  gasoline  2017-03-16 18:52:19.312366+00   \n",
       "3552827  gasoline   2017-03-16 18:53:22.19403+00   \n",
       "3552871  gasoline  2017-03-16 18:55:50.942068+00   \n",
       "\n",
       "                        date_last_seen  price_eur  \n",
       "3         2016-01-27 20:40:15.46361+00    2960.77  \n",
       "4         2016-01-27 20:40:15.46361+00    2738.71  \n",
       "5         2016-01-27 20:40:15.46361+00    1628.42  \n",
       "6         2016-01-27 20:40:15.46361+00    2072.54  \n",
       "19        2016-01-27 20:40:15.46361+00    4219.10  \n",
       "...                                ...        ...  \n",
       "3552717  2017-03-16 18:45:03.733844+00    1295.34  \n",
       "3552727  2017-03-16 18:45:49.303314+00    1295.34  \n",
       "3552815  2017-03-16 18:52:19.312366+00    1295.34  \n",
       "3552827   2017-03-16 18:53:22.19403+00    1295.34  \n",
       "3552871  2017-03-16 18:55:50.942068+00    1295.34  \n",
       "\n",
       "[34752 rows x 15 columns]"
      ]
     },
     "execution_count": 129,
     "metadata": {},
     "output_type": "execute_result"
    }
   ],
   "source": [
    "model_fule_type_group.get_group(('fabia', 'gasoline'))"
   ]
  },
  {
   "cell_type": "code",
   "execution_count": 130,
   "metadata": {},
   "outputs": [
    {
     "data": {
      "text/plain": [
       "compact         8724\n",
       "coupe           6196\n",
       "stationwagon    4832\n",
       "other           2428\n",
       "sedan            295\n",
       "van                2\n",
       "Name: body_type, dtype: int64"
      ]
     },
     "execution_count": 130,
     "metadata": {},
     "output_type": "execute_result"
    }
   ],
   "source": [
    "model_fule_type_group.get_group(('fabia', 'gasoline'))['body_type'].value_counts()"
   ]
  },
  {
   "cell_type": "code",
   "execution_count": 131,
   "metadata": {},
   "outputs": [
    {
     "data": {
      "text/plain": [
       "0    compact\n",
       "dtype: object"
      ]
     },
     "execution_count": 131,
     "metadata": {},
     "output_type": "execute_result"
    }
   ],
   "source": [
    "model_fule_type_group.get_group(('fabia', 'gasoline'))['body_type'].mode()"
   ]
  },
  {
   "cell_type": "code",
   "execution_count": 132,
   "metadata": {},
   "outputs": [],
   "source": [
    "for model_and_fuel , group in model_fule_type_group:\n",
    "    model_fule_type_group.get_group(model_and_fuel)['body_type'].fillna(model_fule_type_group.get_group(model_and_fuel)['body_type'].mode())"
   ]
  },
  {
   "cell_type": "code",
   "execution_count": 133,
   "metadata": {},
   "outputs": [
    {
     "data": {
      "text/plain": [
       "model  fuel_type  body_type   \n",
       "10     10         10              312\n",
       "100    diesel     other            21\n",
       "                  compact          14\n",
       "                  stationwagon      2\n",
       "                  offroad           1\n",
       "                                 ... \n",
       "zx     gasoline   compact          99\n",
       "                  coupe             8\n",
       "                  other             8\n",
       "                  stationwagon      1\n",
       "       lpg        coupe             1\n",
       "Name: body_type, Length: 6467, dtype: int64"
      ]
     },
     "execution_count": 133,
     "metadata": {},
     "output_type": "execute_result"
    }
   ],
   "source": [
    "model_fule_type_group['body_type'].value_counts()"
   ]
  },
  {
   "cell_type": "code",
   "execution_count": 134,
   "metadata": {},
   "outputs": [
    {
     "ename": "ValueError",
     "evalue": "Length of values does not match length of index",
     "output_type": "error",
     "traceback": [
      "\u001b[0;31m---------------------------------------------------------------------------\u001b[0m",
      "\u001b[0;31mValueError\u001b[0m                                Traceback (most recent call last)",
      "\u001b[0;32m<ipython-input-134-47e648a311a7>\u001b[0m in \u001b[0;36m<module>\u001b[0;34m()\u001b[0m\n\u001b[0;32m----> 1\u001b[0;31m \u001b[0mraw_data\u001b[0m\u001b[0;34m[\u001b[0m\u001b[0;34m'body_type'\u001b[0m\u001b[0;34m]\u001b[0m \u001b[0;34m=\u001b[0m \u001b[0mmodel_fule_type_group\u001b[0m\u001b[0;34m[\u001b[0m\u001b[0;34m'body_type'\u001b[0m\u001b[0;34m]\u001b[0m\u001b[0;34m\u001b[0m\u001b[0;34m\u001b[0m\u001b[0m\n\u001b[0m",
      "\u001b[0;32m~/Documents/neuralnet/lib/python3.7/site-packages/pandas/core/frame.py\u001b[0m in \u001b[0;36m__setitem__\u001b[0;34m(self, key, value)\u001b[0m\n\u001b[1;32m   2936\u001b[0m         \u001b[0;32melse\u001b[0m\u001b[0;34m:\u001b[0m\u001b[0;34m\u001b[0m\u001b[0;34m\u001b[0m\u001b[0m\n\u001b[1;32m   2937\u001b[0m             \u001b[0;31m# set column\u001b[0m\u001b[0;34m\u001b[0m\u001b[0;34m\u001b[0m\u001b[0;34m\u001b[0m\u001b[0m\n\u001b[0;32m-> 2938\u001b[0;31m             \u001b[0mself\u001b[0m\u001b[0;34m.\u001b[0m\u001b[0m_set_item\u001b[0m\u001b[0;34m(\u001b[0m\u001b[0mkey\u001b[0m\u001b[0;34m,\u001b[0m \u001b[0mvalue\u001b[0m\u001b[0;34m)\u001b[0m\u001b[0;34m\u001b[0m\u001b[0;34m\u001b[0m\u001b[0m\n\u001b[0m\u001b[1;32m   2939\u001b[0m \u001b[0;34m\u001b[0m\u001b[0m\n\u001b[1;32m   2940\u001b[0m     \u001b[0;32mdef\u001b[0m \u001b[0m_setitem_slice\u001b[0m\u001b[0;34m(\u001b[0m\u001b[0mself\u001b[0m\u001b[0;34m,\u001b[0m \u001b[0mkey\u001b[0m\u001b[0;34m,\u001b[0m \u001b[0mvalue\u001b[0m\u001b[0;34m)\u001b[0m\u001b[0;34m:\u001b[0m\u001b[0;34m\u001b[0m\u001b[0;34m\u001b[0m\u001b[0m\n",
      "\u001b[0;32m~/Documents/neuralnet/lib/python3.7/site-packages/pandas/core/frame.py\u001b[0m in \u001b[0;36m_set_item\u001b[0;34m(self, key, value)\u001b[0m\n\u001b[1;32m   2998\u001b[0m \u001b[0;34m\u001b[0m\u001b[0m\n\u001b[1;32m   2999\u001b[0m         \u001b[0mself\u001b[0m\u001b[0;34m.\u001b[0m\u001b[0m_ensure_valid_index\u001b[0m\u001b[0;34m(\u001b[0m\u001b[0mvalue\u001b[0m\u001b[0;34m)\u001b[0m\u001b[0;34m\u001b[0m\u001b[0;34m\u001b[0m\u001b[0m\n\u001b[0;32m-> 3000\u001b[0;31m         \u001b[0mvalue\u001b[0m \u001b[0;34m=\u001b[0m \u001b[0mself\u001b[0m\u001b[0;34m.\u001b[0m\u001b[0m_sanitize_column\u001b[0m\u001b[0;34m(\u001b[0m\u001b[0mkey\u001b[0m\u001b[0;34m,\u001b[0m \u001b[0mvalue\u001b[0m\u001b[0;34m)\u001b[0m\u001b[0;34m\u001b[0m\u001b[0;34m\u001b[0m\u001b[0m\n\u001b[0m\u001b[1;32m   3001\u001b[0m         \u001b[0mNDFrame\u001b[0m\u001b[0;34m.\u001b[0m\u001b[0m_set_item\u001b[0m\u001b[0;34m(\u001b[0m\u001b[0mself\u001b[0m\u001b[0;34m,\u001b[0m \u001b[0mkey\u001b[0m\u001b[0;34m,\u001b[0m \u001b[0mvalue\u001b[0m\u001b[0;34m)\u001b[0m\u001b[0;34m\u001b[0m\u001b[0;34m\u001b[0m\u001b[0m\n\u001b[1;32m   3002\u001b[0m \u001b[0;34m\u001b[0m\u001b[0m\n",
      "\u001b[0;32m~/Documents/neuralnet/lib/python3.7/site-packages/pandas/core/frame.py\u001b[0m in \u001b[0;36m_sanitize_column\u001b[0;34m(self, key, value, broadcast)\u001b[0m\n\u001b[1;32m   3634\u001b[0m \u001b[0;34m\u001b[0m\u001b[0m\n\u001b[1;32m   3635\u001b[0m             \u001b[0;31m# turn me into an ndarray\u001b[0m\u001b[0;34m\u001b[0m\u001b[0;34m\u001b[0m\u001b[0;34m\u001b[0m\u001b[0m\n\u001b[0;32m-> 3636\u001b[0;31m             \u001b[0mvalue\u001b[0m \u001b[0;34m=\u001b[0m \u001b[0msanitize_index\u001b[0m\u001b[0;34m(\u001b[0m\u001b[0mvalue\u001b[0m\u001b[0;34m,\u001b[0m \u001b[0mself\u001b[0m\u001b[0;34m.\u001b[0m\u001b[0mindex\u001b[0m\u001b[0;34m,\u001b[0m \u001b[0mcopy\u001b[0m\u001b[0;34m=\u001b[0m\u001b[0;32mFalse\u001b[0m\u001b[0;34m)\u001b[0m\u001b[0;34m\u001b[0m\u001b[0;34m\u001b[0m\u001b[0m\n\u001b[0m\u001b[1;32m   3637\u001b[0m             \u001b[0;32mif\u001b[0m \u001b[0;32mnot\u001b[0m \u001b[0misinstance\u001b[0m\u001b[0;34m(\u001b[0m\u001b[0mvalue\u001b[0m\u001b[0;34m,\u001b[0m \u001b[0;34m(\u001b[0m\u001b[0mnp\u001b[0m\u001b[0;34m.\u001b[0m\u001b[0mndarray\u001b[0m\u001b[0;34m,\u001b[0m \u001b[0mIndex\u001b[0m\u001b[0;34m)\u001b[0m\u001b[0;34m)\u001b[0m\u001b[0;34m:\u001b[0m\u001b[0;34m\u001b[0m\u001b[0;34m\u001b[0m\u001b[0m\n\u001b[1;32m   3638\u001b[0m                 \u001b[0;32mif\u001b[0m \u001b[0misinstance\u001b[0m\u001b[0;34m(\u001b[0m\u001b[0mvalue\u001b[0m\u001b[0;34m,\u001b[0m \u001b[0mlist\u001b[0m\u001b[0;34m)\u001b[0m \u001b[0;32mand\u001b[0m \u001b[0mlen\u001b[0m\u001b[0;34m(\u001b[0m\u001b[0mvalue\u001b[0m\u001b[0;34m)\u001b[0m \u001b[0;34m>\u001b[0m \u001b[0;36m0\u001b[0m\u001b[0;34m:\u001b[0m\u001b[0;34m\u001b[0m\u001b[0;34m\u001b[0m\u001b[0m\n",
      "\u001b[0;32m~/Documents/neuralnet/lib/python3.7/site-packages/pandas/core/internals/construction.py\u001b[0m in \u001b[0;36msanitize_index\u001b[0;34m(data, index, copy)\u001b[0m\n\u001b[1;32m    609\u001b[0m \u001b[0;34m\u001b[0m\u001b[0m\n\u001b[1;32m    610\u001b[0m     \u001b[0;32mif\u001b[0m \u001b[0mlen\u001b[0m\u001b[0;34m(\u001b[0m\u001b[0mdata\u001b[0m\u001b[0;34m)\u001b[0m \u001b[0;34m!=\u001b[0m \u001b[0mlen\u001b[0m\u001b[0;34m(\u001b[0m\u001b[0mindex\u001b[0m\u001b[0;34m)\u001b[0m\u001b[0;34m:\u001b[0m\u001b[0;34m\u001b[0m\u001b[0;34m\u001b[0m\u001b[0m\n\u001b[0;32m--> 611\u001b[0;31m         \u001b[0;32mraise\u001b[0m \u001b[0mValueError\u001b[0m\u001b[0;34m(\u001b[0m\u001b[0;34m\"Length of values does not match length of index\"\u001b[0m\u001b[0;34m)\u001b[0m\u001b[0;34m\u001b[0m\u001b[0;34m\u001b[0m\u001b[0m\n\u001b[0m\u001b[1;32m    612\u001b[0m \u001b[0;34m\u001b[0m\u001b[0m\n\u001b[1;32m    613\u001b[0m     \u001b[0;32mif\u001b[0m \u001b[0misinstance\u001b[0m\u001b[0;34m(\u001b[0m\u001b[0mdata\u001b[0m\u001b[0;34m,\u001b[0m \u001b[0mABCIndexClass\u001b[0m\u001b[0;34m)\u001b[0m \u001b[0;32mand\u001b[0m \u001b[0;32mnot\u001b[0m \u001b[0mcopy\u001b[0m\u001b[0;34m:\u001b[0m\u001b[0;34m\u001b[0m\u001b[0;34m\u001b[0m\u001b[0m\n",
      "\u001b[0;31mValueError\u001b[0m: Length of values does not match length of index"
     ]
    }
   ],
   "source": [
    "raw_data['body_type'] = model_fule_type_group['body_type']"
   ]
  },
  {
   "cell_type": "markdown",
   "metadata": {},
   "source": [
    "I am failing to join the values from grouped by dataframe back to the original dataframe"
   ]
  },
  {
   "cell_type": "code",
   "execution_count": 135,
   "metadata": {},
   "outputs": [
    {
     "data": {
      "text/plain": [
       "Index(['mileage', 'manufacture_year', 'engine_displacement', 'engine_power',\n",
       "       'seat_count', 'price_eur'],\n",
       "      dtype='object')"
      ]
     },
     "execution_count": 135,
     "metadata": {},
     "output_type": "execute_result"
    }
   ],
   "source": [
    "raw_data.select_dtypes('number').columns"
   ]
  },
  {
   "cell_type": "code",
   "execution_count": 136,
   "metadata": {},
   "outputs": [],
   "source": [
    "# fig, axes = plt.subplots()\n",
    "\n",
    "# axes.violinplot(dataset = [raw_data[raw_data.mileage].values,\n",
    "#                            raw_data[raw_data.engine_displacement].values,\n",
    "#                            raw_data[raw_data.engine_power].values,\n",
    "#                            raw_data[raw_data.price_eur].values)\n",
    "\n",
    "# axes.set_title('Violin plot to see trends in numeric data')\n",
    "# axes.yaxis.grid(True)\n",
    "# axes.set_xlabel('Scenario')\n",
    "# axes.set_ylabel('LMP ($/MWh)')\n",
    "\n",
    "# plt.show()"
   ]
  },
  {
   "cell_type": "code",
   "execution_count": 137,
   "metadata": {},
   "outputs": [
    {
     "data": {
      "text/plain": [
       "<matplotlib.axes._subplots.AxesSubplot at 0x27ce63908>"
      ]
     },
     "execution_count": 137,
     "metadata": {},
     "output_type": "execute_result"
    },
    {
     "data": {
      "image/png": "[encoded data removed]",
      "text/plain": [
       "<Figure size 432x288 with 1 Axes>"
      ]
     },
     "metadata": {},
     "output_type": "display_data"
    }
   ],
   "source": [
    "raw_data['engine_displacement'].plot(kind='box')"
   ]
  },
  {
   "cell_type": "code",
   "execution_count": 138,
   "metadata": {},
   "outputs": [
    {
     "data": {
      "text/plain": [
       "4"
      ]
     },
     "execution_count": 138,
     "metadata": {},
     "output_type": "execute_result"
    }
   ],
   "source": [
    "int('4')"
   ]
  },
  {
   "cell_type": "code",
   "execution_count": 139,
   "metadata": {},
   "outputs": [
    {
     "data": {
      "text/plain": [
       "<matplotlib.axes._subplots.AxesSubplot at 0x1d61097f0>"
      ]
     },
     "execution_count": 139,
     "metadata": {},
     "output_type": "execute_result"
    },
    {
     "data": {
      "image/png": "[encoded data removed]",
      "text/plain": [
       "<Figure size 432x288 with 1 Axes>"
      ]
     },
     "metadata": {},
     "output_type": "display_data"
    }
   ],
   "source": [
    "raw_data['price_eur'].plot(kind='box')"
   ]
  },
  {
   "cell_type": "code",
   "execution_count": 140,
   "metadata": {},
   "outputs": [
    {
     "data": {
      "text/plain": [
       "<matplotlib.axes._subplots.AxesSubplot at 0x205c55550>"
      ]
     },
     "execution_count": 140,
     "metadata": {},
     "output_type": "execute_result"
    },
    {
     "data": {
      "image/png": "[encoded data removed]",
      "text/plain": [
       "<Figure size 1080x720 with 1 Axes>"
      ]
     },
     "metadata": {},
     "output_type": "display_data"
    }
   ],
   "source": [
    "# plotting the missing values again\n",
    "raw_data.isna().sum().plot(x='column names', kind='bar',\n",
    "                           y='missing values',figsize = plt.figsize, \n",
    "                           title='Missing values in the dataset(in millions)', sort_columns=True)"
   ]
  },
  {
   "cell_type": "code",
   "execution_count": 141,
   "metadata": {},
   "outputs": [
    {
     "data": {
      "text/plain": [
       "maker                   518813\n",
       "model                  1133160\n",
       "mileage                      0\n",
       "manufacture_year        370553\n",
       "engine_displacement          0\n",
       "engine_power                 0\n",
       "body_type              1122828\n",
       "stk_year               1707969\n",
       "transmission            741545\n",
       "door_count                   0\n",
       "seat_count              749489\n",
       "fuel_type              1847465\n",
       "date_created                 0\n",
       "date_last_seen               0\n",
       "price_eur                    0\n",
       "dtype: int64"
      ]
     },
     "execution_count": 141,
     "metadata": {},
     "output_type": "execute_result"
    }
   ],
   "source": [
    "# Let's fill mileage, engine power, and  engine displacement with mean values\n",
    "\n",
    "raw_data['mileage'].fillna(raw_data['mileage'].mean(), inplace=True)\n",
    "raw_data['engine_displacement'].fillna(raw_data['engine_displacement'].mean(), inplace=True)\n",
    "raw_data['engine_power'].fillna(raw_data['engine_power'].mean(), inplace=True)\n",
    "raw_data.isna().sum()"
   ]
  },
  {
   "cell_type": "code",
   "execution_count": 143,
   "metadata": {},
   "outputs": [
    {
     "data": {
      "text/plain": [
       "maker                   518813\n",
       "model                  1133160\n",
       "mileage                      0\n",
       "manufacture_year        370553\n",
       "engine_displacement          0\n",
       "engine_power                 0\n",
       "body_type              1122828\n",
       "stk_year               1707969\n",
       "transmission                 0\n",
       "door_count                   0\n",
       "seat_count                   0\n",
       "fuel_type                    0\n",
       "date_created                 0\n",
       "date_last_seen               0\n",
       "price_eur                    0\n",
       "dtype: int64"
      ]
     },
     "execution_count": 143,
     "metadata": {},
     "output_type": "execute_result"
    }
   ],
   "source": [
    "# Filling missing values in column transmission, fuel_type, and seat_count with the mode values.\n",
    "# raw_data.info()\n",
    "raw_data['transmission'].fillna(raw_data['transmission'].mode().iloc[0], inplace=True)\n",
    "raw_data['fuel_type'].fillna(raw_data['fuel_type'].mode().iloc[0], inplace=True)\n",
    "raw_data['seat_count'].fillna(raw_data['seat_count'].mode().iloc[0], inplace=True)\n",
    "raw_data.isna().sum()"
   ]
  },
  {
   "cell_type": "code",
   "execution_count": 144,
   "metadata": {},
   "outputs": [],
   "source": [
    "raw_data['body_type'].fillna(raw_data['body_type'].mode().iloc[0], inplace=True)"
   ]
  },
  {
   "cell_type": "code",
   "execution_count": 145,
   "metadata": {},
   "outputs": [
    {
     "data": {
      "text/plain": [
       "maker                   518813\n",
       "model                  1133160\n",
       "mileage                      0\n",
       "manufacture_year        370553\n",
       "engine_displacement          0\n",
       "engine_power                 0\n",
       "body_type                    0\n",
       "stk_year               1707969\n",
       "transmission                 0\n",
       "door_count                   0\n",
       "seat_count                   0\n",
       "fuel_type                    0\n",
       "date_created                 0\n",
       "date_last_seen               0\n",
       "price_eur                    0\n",
       "dtype: int64"
      ]
     },
     "execution_count": 145,
     "metadata": {},
     "output_type": "execute_result"
    }
   ],
   "source": [
    "raw_data.isna().sum()"
   ]
  },
  {
   "cell_type": "code",
   "execution_count": null,
   "metadata": {},
   "outputs": [],
   "source": []
  },
  {
   "cell_type": "code",
   "execution_count": null,
   "metadata": {},
   "outputs": [],
   "source": []
  },
  {
   "cell_type": "code",
   "execution_count": null,
   "metadata": {},
   "outputs": [],
   "source": []
  },
  {
   "cell_type": "code",
   "execution_count": null,
   "metadata": {},
   "outputs": [],
   "source": []
  },
  {
   "cell_type": "code",
   "execution_count": null,
   "metadata": {},
   "outputs": [],
   "source": []
  },
  {
   "cell_type": "code",
   "execution_count": null,
   "metadata": {},
   "outputs": [],
   "source": []
  },
  {
   "cell_type": "code",
   "execution_count": null,
   "metadata": {},
   "outputs": [],
   "source": []
  },
  {
   "cell_type": "code",
   "execution_count": null,
   "metadata": {},
   "outputs": [],
   "source": []
  },
  {
   "cell_type": "code",
   "execution_count": null,
   "metadata": {},
   "outputs": [],
   "source": []
  },
  {
   "cell_type": "code",
   "execution_count": null,
   "metadata": {},
   "outputs": [],
   "source": []
  },
  {
   "cell_type": "markdown",
   "metadata": {},
   "source": [
    "Saving the intermediate dataset to interim folder"
   ]
  },
  {
   "cell_type": "code",
   "execution_count": null,
   "metadata": {},
   "outputs": [],
   "source": [
    "# Saving data to the interim storage\n",
    "\n",
    "raw_data.to_csv('../data/interim/interim_dataset.csv')"
   ]
  }
 ],
 "metadata": {
  "kernelspec": {
   "display_name": "Python 3",
   "language": "python",
   "name": "python3"
  },
  "language_info": {
   "codemirror_mode": {
    "name": "ipython",
    "version": 3
   },
   "file_extension": ".py",
   "mimetype": "text/x-python",
   "name": "python",
   "nbconvert_exporter": "python",
   "pygments_lexer": "ipython3",
   "version": "3.7.3"
  }
 },
 "nbformat": 4,
 "nbformat_minor": 4
}
