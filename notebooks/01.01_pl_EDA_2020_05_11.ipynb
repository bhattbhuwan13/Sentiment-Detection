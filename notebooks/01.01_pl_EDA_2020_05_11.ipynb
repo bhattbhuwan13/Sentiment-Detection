{
 "cells": [
  {
   "cell_type": "markdown",
   "metadata": {
    "colab_type": "text",
    "id": "xdo1kS4_UTVp"
   },
   "source": [
    "# Importing Essentials\n"
   ]
  },
  {
   "cell_type": "code",
   "execution_count": 0,
   "metadata": {
    "colab": {
     "base_uri": "https://localhost:8080/",
     "height": 72
    },
    "colab_type": "code",
    "id": "GcjqeLXre2uh",
    "outputId": "6b68ca40-50d3-4117-d9fa-b64c94f02dc4"
   },
   "outputs": [
    {
     "name": "stderr",
     "output_type": "stream",
     "text": [
      "/usr/local/lib/python3.6/dist-packages/statsmodels/tools/_testing.py:19: FutureWarning: pandas.util.testing is deprecated. Use the functions in the public API at pandas.testing instead.\n",
      "  import pandas.util.testing as tm\n"
     ]
    }
   ],
   "source": [
    "import numpy as np\n",
    "import pandas as pd\n",
    "import matplotlib.pyplot as plt\n",
    "import seaborn as sns\n",
    "from collections import Counter"
   ]
  },
  {
   "cell_type": "code",
   "execution_count": 0,
   "metadata": {
    "colab": {},
    "colab_type": "code",
    "id": "F6u_LtU8e7Xb"
   },
   "outputs": [],
   "source": [
    "from sklearn.impute import SimpleImputer\n",
    "from sklearn.preprocessing import LabelEncoder, StandardScaler"
   ]
  },
  {
   "cell_type": "code",
   "execution_count": 0,
   "metadata": {
    "colab": {},
    "colab_type": "code",
    "id": "r5ic3OwnLZ_P"
   },
   "outputs": [],
   "source": [
    "import tensorflow as tf\n",
    "\n",
    "from sklearn.metrics import r2_score, mean_absolute_error, mean_squared_error\n",
    "from sklearn.model_selection import  train_test_split\n",
    "from sklearn.linear_model import LinearRegression\n",
    "from sklearn.tree import DecisionTreeRegressor"
   ]
  },
  {
   "cell_type": "markdown",
   "metadata": {
    "colab_type": "text",
    "id": "Ii43GE_6Uafj"
   },
   "source": [
    "# unzipping the zip file"
   ]
  },
  {
   "cell_type": "code",
   "execution_count": 0,
   "metadata": {
    "colab": {
     "base_uri": "https://localhost:8080/",
     "height": 34
    },
    "colab_type": "code",
    "id": "vQ6E_2bAe-jx",
    "outputId": "6056c45a-986b-4935-8dde-5aebdfd1aed2"
   },
   "outputs": [
    {
     "name": "stdout",
     "output_type": "stream",
     "text": [
      "replace all_anonymized_2015_11_2017_03.csv? [y]es, [n]o, [A]ll, [N]one, [r]ename: N\n"
     ]
    }
   ],
   "source": [
    "!unzip -q '/content/drive/My Drive/FuseAi training/Datasets/personal-cars-classifieds (1).zip'"
   ]
  },
  {
   "cell_type": "code",
   "execution_count": 0,
   "metadata": {
    "colab": {},
    "colab_type": "code",
    "id": "Mn3cqNPHfRBl"
   },
   "outputs": [],
   "source": [
    "data_path = '/content/all_anonymized_2015_11_2017_03.csv'"
   ]
  },
  {
   "cell_type": "markdown",
   "metadata": {
    "colab_type": "text",
    "id": "PxbuWj34UgMy"
   },
   "source": [
    "# Reading the CSV file"
   ]
  },
  {
   "cell_type": "code",
   "execution_count": 0,
   "metadata": {
    "colab": {
     "base_uri": "https://localhost:8080/",
     "height": 72
    },
    "colab_type": "code",
    "id": "PI_2sV41gC4T",
    "outputId": "6bd7015c-d1d9-403f-9cf5-f04561552716"
   },
   "outputs": [
    {
     "name": "stderr",
     "output_type": "stream",
     "text": [
      "/usr/local/lib/python3.6/dist-packages/IPython/core/interactiveshell.py:2718: DtypeWarning: Columns (7,8,10,11,12) have mixed types.Specify dtype option on import or set low_memory=False.\n",
      "  interactivity=interactivity, compiler=compiler, result=result)\n"
     ]
    }
   ],
   "source": [
    "datas = pd.read_csv(data_path)"
   ]
  },
  {
   "cell_type": "markdown",
   "metadata": {
    "colab_type": "text",
    "id": "8RYxnfDMUknr"
   },
   "source": [
    "# Few information on data"
   ]
  },
  {
   "cell_type": "code",
   "execution_count": 0,
   "metadata": {
    "colab": {
     "base_uri": "https://localhost:8080/",
     "height": 301
    },
    "colab_type": "code",
    "id": "6N4bSNn1gbsg",
    "outputId": "f978aa1a-98d2-4d54-d3fb-3529354beb6f"
   },
   "outputs": [
    {
     "data": {
      "text/html": [
       "<div>\n",
       "<style scoped>\n",
       "    .dataframe tbody tr th:only-of-type {\n",
       "        vertical-align: middle;\n",
       "    }\n",
       "\n",
       "    .dataframe tbody tr th {\n",
       "        vertical-align: top;\n",
       "    }\n",
       "\n",
       "    .dataframe thead th {\n",
       "        text-align: right;\n",
       "    }\n",
       "</style>\n",
       "<table border=\"1\" class=\"dataframe\">\n",
       "  <thead>\n",
       "    <tr style=\"text-align: right;\">\n",
       "      <th></th>\n",
       "      <th>maker</th>\n",
       "      <th>model</th>\n",
       "      <th>mileage</th>\n",
       "      <th>manufacture_year</th>\n",
       "      <th>engine_displacement</th>\n",
       "      <th>engine_power</th>\n",
       "      <th>body_type</th>\n",
       "      <th>color_slug</th>\n",
       "      <th>stk_year</th>\n",
       "      <th>transmission</th>\n",
       "      <th>door_count</th>\n",
       "      <th>seat_count</th>\n",
       "      <th>fuel_type</th>\n",
       "      <th>date_created</th>\n",
       "      <th>date_last_seen</th>\n",
       "      <th>price_eur</th>\n",
       "    </tr>\n",
       "  </thead>\n",
       "  <tbody>\n",
       "    <tr>\n",
       "      <th>0</th>\n",
       "      <td>ford</td>\n",
       "      <td>galaxy</td>\n",
       "      <td>151000.0</td>\n",
       "      <td>2011.0</td>\n",
       "      <td>2000.0</td>\n",
       "      <td>103.0</td>\n",
       "      <td>NaN</td>\n",
       "      <td>NaN</td>\n",
       "      <td>None</td>\n",
       "      <td>man</td>\n",
       "      <td>5</td>\n",
       "      <td>7</td>\n",
       "      <td>diesel</td>\n",
       "      <td>2015-11-14 18:10:06.838319+00</td>\n",
       "      <td>2016-01-27 20:40:15.46361+00</td>\n",
       "      <td>10584.75</td>\n",
       "    </tr>\n",
       "    <tr>\n",
       "      <th>1</th>\n",
       "      <td>skoda</td>\n",
       "      <td>octavia</td>\n",
       "      <td>143476.0</td>\n",
       "      <td>2012.0</td>\n",
       "      <td>2000.0</td>\n",
       "      <td>81.0</td>\n",
       "      <td>NaN</td>\n",
       "      <td>NaN</td>\n",
       "      <td>None</td>\n",
       "      <td>man</td>\n",
       "      <td>5</td>\n",
       "      <td>5</td>\n",
       "      <td>diesel</td>\n",
       "      <td>2015-11-14 18:10:06.853411+00</td>\n",
       "      <td>2016-01-27 20:40:15.46361+00</td>\n",
       "      <td>8882.31</td>\n",
       "    </tr>\n",
       "    <tr>\n",
       "      <th>2</th>\n",
       "      <td>bmw</td>\n",
       "      <td>NaN</td>\n",
       "      <td>97676.0</td>\n",
       "      <td>2010.0</td>\n",
       "      <td>1995.0</td>\n",
       "      <td>85.0</td>\n",
       "      <td>NaN</td>\n",
       "      <td>NaN</td>\n",
       "      <td>None</td>\n",
       "      <td>man</td>\n",
       "      <td>5</td>\n",
       "      <td>5</td>\n",
       "      <td>diesel</td>\n",
       "      <td>2015-11-14 18:10:06.861792+00</td>\n",
       "      <td>2016-01-27 20:40:15.46361+00</td>\n",
       "      <td>12065.06</td>\n",
       "    </tr>\n",
       "    <tr>\n",
       "      <th>3</th>\n",
       "      <td>skoda</td>\n",
       "      <td>fabia</td>\n",
       "      <td>111970.0</td>\n",
       "      <td>2004.0</td>\n",
       "      <td>1200.0</td>\n",
       "      <td>47.0</td>\n",
       "      <td>NaN</td>\n",
       "      <td>NaN</td>\n",
       "      <td>None</td>\n",
       "      <td>man</td>\n",
       "      <td>5</td>\n",
       "      <td>5</td>\n",
       "      <td>gasoline</td>\n",
       "      <td>2015-11-14 18:10:06.872313+00</td>\n",
       "      <td>2016-01-27 20:40:15.46361+00</td>\n",
       "      <td>2960.77</td>\n",
       "    </tr>\n",
       "    <tr>\n",
       "      <th>4</th>\n",
       "      <td>skoda</td>\n",
       "      <td>fabia</td>\n",
       "      <td>128886.0</td>\n",
       "      <td>2004.0</td>\n",
       "      <td>1200.0</td>\n",
       "      <td>47.0</td>\n",
       "      <td>NaN</td>\n",
       "      <td>NaN</td>\n",
       "      <td>None</td>\n",
       "      <td>man</td>\n",
       "      <td>5</td>\n",
       "      <td>5</td>\n",
       "      <td>gasoline</td>\n",
       "      <td>2015-11-14 18:10:06.880335+00</td>\n",
       "      <td>2016-01-27 20:40:15.46361+00</td>\n",
       "      <td>2738.71</td>\n",
       "    </tr>\n",
       "  </tbody>\n",
       "</table>\n",
       "</div>"
      ],
      "text/plain": [
       "   maker    model  ...                date_last_seen  price_eur\n",
       "0   ford   galaxy  ...  2016-01-27 20:40:15.46361+00   10584.75\n",
       "1  skoda  octavia  ...  2016-01-27 20:40:15.46361+00    8882.31\n",
       "2    bmw      NaN  ...  2016-01-27 20:40:15.46361+00   12065.06\n",
       "3  skoda    fabia  ...  2016-01-27 20:40:15.46361+00    2960.77\n",
       "4  skoda    fabia  ...  2016-01-27 20:40:15.46361+00    2738.71\n",
       "\n",
       "[5 rows x 16 columns]"
      ]
     },
     "execution_count": 7,
     "metadata": {
      "tags": []
     },
     "output_type": "execute_result"
    }
   ],
   "source": [
    "datas.head()"
   ]
  },
  {
   "cell_type": "code",
   "execution_count": 0,
   "metadata": {
    "colab": {
     "base_uri": "https://localhost:8080/",
     "height": 318
    },
    "colab_type": "code",
    "id": "la9Xr8rBg-54",
    "outputId": "f3e9ca02-6cdd-42e5-86a3-b5b86469f3f8"
   },
   "outputs": [
    {
     "data": {
      "text/plain": [
       "maker                   518915\n",
       "model                  1133361\n",
       "mileage                 362584\n",
       "manufacture_year        370578\n",
       "engine_displacement     743414\n",
       "engine_power            554877\n",
       "body_type              1122914\n",
       "color_slug             3343411\n",
       "stk_year               1708156\n",
       "transmission            741630\n",
       "door_count              614373\n",
       "seat_count              749489\n",
       "fuel_type              1847606\n",
       "date_created                 0\n",
       "date_last_seen               0\n",
       "price_eur                    0\n",
       "dtype: int64"
      ]
     },
     "execution_count": 8,
     "metadata": {
      "tags": []
     },
     "output_type": "execute_result"
    }
   ],
   "source": [
    " datas.isna().sum()"
   ]
  },
  {
   "cell_type": "code",
   "execution_count": 0,
   "metadata": {
    "colab": {
     "base_uri": "https://localhost:8080/",
     "height": 34
    },
    "colab_type": "code",
    "id": "YF8BzVwiiM72",
    "outputId": "4f4fd86f-2547-4e13-d235-7f4e94119ff9"
   },
   "outputs": [
    {
     "data": {
      "text/plain": [
       "(3552912, 16)"
      ]
     },
     "execution_count": 9,
     "metadata": {
      "tags": []
     },
     "output_type": "execute_result"
    }
   ],
   "source": [
    "datas.shape"
   ]
  },
  {
   "cell_type": "code",
   "execution_count": 0,
   "metadata": {
    "colab": {
     "base_uri": "https://localhost:8080/",
     "height": 105
    },
    "colab_type": "code",
    "id": "IiwUeonJ-Tb_",
    "outputId": "5a10e797-5373-466e-a349-b43c7af85c69"
   },
   "outputs": [
    {
     "data": {
      "text/plain": [
       "Index(['maker', 'model', 'mileage', 'manufacture_year', 'engine_displacement',\n",
       "       'engine_power', 'body_type', 'color_slug', 'stk_year', 'transmission',\n",
       "       'door_count', 'seat_count', 'fuel_type', 'date_created',\n",
       "       'date_last_seen', 'price_eur'],\n",
       "      dtype='object')"
      ]
     },
     "execution_count": 10,
     "metadata": {
      "tags": []
     },
     "output_type": "execute_result"
    }
   ],
   "source": [
    "datas.columns"
   ]
  },
  {
   "cell_type": "code",
   "execution_count": 0,
   "metadata": {
    "colab": {
     "base_uri": "https://localhost:8080/",
     "height": 425
    },
    "colab_type": "code",
    "id": "3jgtGjX9iR-9",
    "outputId": "ddac936b-375b-4ce7-a4af-5d72eac0b588"
   },
   "outputs": [
    {
     "name": "stdout",
     "output_type": "stream",
     "text": [
      "<class 'pandas.core.frame.DataFrame'>\n",
      "RangeIndex: 3552912 entries, 0 to 3552911\n",
      "Data columns (total 16 columns):\n",
      " #   Column               Dtype  \n",
      "---  ------               -----  \n",
      " 0   maker                object \n",
      " 1   model                object \n",
      " 2   mileage              float64\n",
      " 3   manufacture_year     float64\n",
      " 4   engine_displacement  float64\n",
      " 5   engine_power         float64\n",
      " 6   body_type            object \n",
      " 7   color_slug           object \n",
      " 8   stk_year             object \n",
      " 9   transmission         object \n",
      " 10  door_count           object \n",
      " 11  seat_count           object \n",
      " 12  fuel_type            object \n",
      " 13  date_created         object \n",
      " 14  date_last_seen       object \n",
      " 15  price_eur            float64\n",
      "dtypes: float64(5), object(11)\n",
      "memory usage: 433.7+ MB\n"
     ]
    }
   ],
   "source": [
    "datas.info()"
   ]
  },
  {
   "cell_type": "markdown",
   "metadata": {
    "colab_type": "text",
    "id": "PAG4PGh8UtmG"
   },
   "source": [
    "# removing the feture with more than $20 $% null value"
   ]
  },
  {
   "cell_type": "code",
   "execution_count": 0,
   "metadata": {
    "colab": {},
    "colab_type": "code",
    "id": "wAVCDYon-zbo"
   },
   "outputs": [],
   "source": [
    "datas = datas.loc[:, datas.isnull().mean()<0.3]"
   ]
  },
  {
   "cell_type": "code",
   "execution_count": 0,
   "metadata": {
    "colab": {
     "base_uri": "https://localhost:8080/",
     "height": 87
    },
    "colab_type": "code",
    "id": "Cz3YKU5V_FzO",
    "outputId": "76ed1d23-9a80-42dd-973b-ce020756202b"
   },
   "outputs": [
    {
     "data": {
      "text/plain": [
       "Index(['maker', 'mileage', 'manufacture_year', 'engine_displacement',\n",
       "       'engine_power', 'transmission', 'door_count', 'seat_count',\n",
       "       'date_created', 'date_last_seen', 'price_eur'],\n",
       "      dtype='object')"
      ]
     },
     "execution_count": 13,
     "metadata": {
      "tags": []
     },
     "output_type": "execute_result"
    }
   ],
   "source": [
    "datas.columns"
   ]
  },
  {
   "cell_type": "markdown",
   "metadata": {
    "colab_type": "text",
    "id": "BpDPQU8QU6ub"
   },
   "source": [
    "# Dropping $date\\_created$ and $date\\_last\\_seen$ from data because they hold no significant value to the dataset"
   ]
  },
  {
   "cell_type": "code",
   "execution_count": 0,
   "metadata": {
    "colab": {},
    "colab_type": "code",
    "id": "_re22VrmqQe-"
   },
   "outputs": [],
   "source": [
    "datas.drop(['date_created', 'date_last_seen', ], axis=1, inplace=True)"
   ]
  },
  {
   "cell_type": "markdown",
   "metadata": {
    "colab_type": "text",
    "id": "arBFt0ikVTuY"
   },
   "source": [
    "# Replacing all the $none$ values with $nan$ values"
   ]
  },
  {
   "cell_type": "code",
   "execution_count": 0,
   "metadata": {
    "colab": {},
    "colab_type": "code",
    "id": "ciaoWKusmeh4"
   },
   "outputs": [],
   "source": [
    "datas['door_count'] = datas['door_count'].replace('None', np.nan)\n",
    "datas['seat_count'] = datas['seat_count'].replace('None', np.nan)"
   ]
  },
  {
   "cell_type": "markdown",
   "metadata": {
    "colab_type": "text",
    "id": "hhGESINBVcqa"
   },
   "source": [
    "# Typecasting object into float"
   ]
  },
  {
   "cell_type": "code",
   "execution_count": 0,
   "metadata": {
    "colab": {},
    "colab_type": "code",
    "id": "GbLDodsvA2OV"
   },
   "outputs": [],
   "source": [
    "datas['door_count'] = datas['door_count'].astype(float, )\n",
    "datas['seat_count'] = datas['seat_count'].astype(float, )"
   ]
  },
  {
   "cell_type": "markdown",
   "metadata": {
    "colab_type": "text",
    "id": "yV3FPHZJVh24"
   },
   "source": [
    "# Processing Numerical data\n",
    "\n"
   ]
  },
  {
   "cell_type": "code",
   "execution_count": 0,
   "metadata": {
    "colab": {
     "base_uri": "https://localhost:8080/",
     "height": 1000
    },
    "colab_type": "code",
    "id": "7tpotgvhdFaz",
    "outputId": "db15b495-0cf4-4bee-e72e-1a89c0325fb7"
   },
   "outputs": [
    {
     "data": {
      "image/png": "[encoded data removed]",
      "text/plain": [
       "<Figure size 432x288 with 1 Axes>"
      ]
     },
     "metadata": {
      "needs_background": "light",
      "tags": []
     },
     "output_type": "display_data"
    },
    {
     "data": {
      "image/png": "[encoded data removed]",
      "text/plain": [
       "<Figure size 432x288 with 1 Axes>"
      ]
     },
     "metadata": {
      "needs_background": "light",
      "tags": []
     },
     "output_type": "display_data"
    },
    {
     "data": {
      "image/png": "[encoded data removed]",
      "text/plain": [
       "<Figure size 432x288 with 1 Axes>"
      ]
     },
     "metadata": {
      "needs_background": "light",
      "tags": []
     },
     "output_type": "display_data"
    },
    {
     "data": {
      "image/png": "[encoded data removed]",
      "text/plain": [
       "<Figure size 432x288 with 1 Axes>"
      ]
     },
     "metadata": {
      "needs_background": "light",
      "tags": []
     },
     "output_type": "display_data"
    },
    {
     "data": {
      "image/png": "[encoded data removed]",
      "text/plain": [
       "<Figure size 432x288 with 1 Axes>"
      ]
     },
     "metadata": {
      "needs_background": "light",
      "tags": []
     },
     "output_type": "display_data"
    },
    {
     "data": {
      "image/png": "[encoded data removed]",
      "text/plain": [
       "<Figure size 432x288 with 1 Axes>"
      ]
     },
     "metadata": {
      "needs_background": "light",
      "tags": []
     },
     "output_type": "display_data"
    }
   ],
   "source": [
    "\n",
    "\n",
    "def random_number(mean, std):\n",
    "  rand_num = np.random.randint(low = mean - std, high = mean + std, size = 1)\n",
    "  return rand_num\n",
    "\n",
    "def process_numerical_data(heading):\n",
    "    sns.distplot(datas[heading])\n",
    "    plt.show()\n",
    "    mean = datas[heading].mean()\n",
    "    std = datas[heading].std()\n",
    "    datas[heading] = datas[heading].fillna(int(random_number(mean, std)))\n",
    "\n",
    "numerical_datas = ['mileage', 'manufacture_year', 'engine_displacement', 'engine_power','door_count', 'seat_count']\n",
    "\n",
    "for data in numerical_datas:\n",
    "  process_numerical_data(data)"
   ]
  },
  {
   "cell_type": "markdown",
   "metadata": {
    "colab_type": "text",
    "id": "3X_FRzQTWmYQ"
   },
   "source": [
    "# correlation heatmap for all the numerical data"
   ]
  },
  {
   "cell_type": "code",
   "execution_count": 0,
   "metadata": {
    "colab": {
     "base_uri": "https://localhost:8080/",
     "height": 365
    },
    "colab_type": "code",
    "id": "ujxdLRFwC-NG",
    "outputId": "77afcecd-dea0-4992-b1f5-0c4427a28826"
   },
   "outputs": [
    {
     "data": {
      "image/png": "[encoded data removed]",
      "text/plain": [
       "<Figure size 432x288 with 2 Axes>"
      ]
     },
     "metadata": {
      "needs_background": "light",
      "tags": []
     },
     "output_type": "display_data"
    }
   ],
   "source": [
    "f, ax = plt.subplots()\n",
    "sns.heatmap(datas.corr(), annot = True)\n",
    "plt.show()"
   ]
  },
  {
   "cell_type": "markdown",
   "metadata": {
    "colab_type": "text",
    "id": "3gn6OxuhYBOW"
   },
   "source": [
    "# Scaling the numerical data"
   ]
  },
  {
   "cell_type": "code",
   "execution_count": 0,
   "metadata": {
    "colab": {},
    "colab_type": "code",
    "id": "JZMQUTFgC6_v"
   },
   "outputs": [],
   "source": [
    "scaler = StandardScaler()\n",
    "for heading in numerical_datas:\n",
    "   datas[heading] = scaler.fit_transform(datas[heading].values.reshape(-1, 1))"
   ]
  },
  {
   "cell_type": "markdown",
   "metadata": {
    "colab_type": "text",
    "id": "XUGVVWRbYYS5"
   },
   "source": [
    "# Processing categorical data"
   ]
  },
  {
   "cell_type": "code",
   "execution_count": 0,
   "metadata": {
    "colab": {},
    "colab_type": "code",
    "id": "-9jaX34WkBHc"
   },
   "outputs": [],
   "source": [
    "label_encoder = LabelEncoder()\n",
    "\n",
    "def process_categorical(heading):\n",
    "  print(f'Processing {heading}')\n",
    "  sns.catplot(kind='count', x=heading, data = datas)\n",
    "  plt.show()\n",
    "\n",
    "  datas[heading].fillna(datas[heading].mode()[0], inplace=True)\n",
    "  items = datas[heading].unique()\n",
    "  i=0\n",
    "  item_map = {}\n",
    "  for item in items:\n",
    "      item_map[item] = i\n",
    "      i += 1\n",
    "\n",
    "  datas[heading] = datas[heading].map(item_map)\n",
    "  datas[heading] = label_encoder.fit_transform(datas[heading])\n",
    "  \n",
    "\n",
    "to_process_categorical = ['maker', 'transmission',]\n",
    "\n"
   ]
  },
  {
   "cell_type": "code",
   "execution_count": 0,
   "metadata": {
    "colab": {
     "base_uri": "https://localhost:8080/",
     "height": 756
    },
    "colab_type": "code",
    "id": "tZX321JwK6mA",
    "outputId": "70db05fc-58e9-449d-9b70-a94e05e8c15c"
   },
   "outputs": [
    {
     "name": "stdout",
     "output_type": "stream",
     "text": [
      "Processing maker\n"
     ]
    },
    {
     "data": {
      "image/png": "[encoded data removed]",
      "text/plain": [
       "<Figure size 360x360 with 1 Axes>"
      ]
     },
     "metadata": {
      "needs_background": "light",
      "tags": []
     },
     "output_type": "display_data"
    },
    {
     "name": "stdout",
     "output_type": "stream",
     "text": [
      "Processing transmission\n"
     ]
    },
    {
     "data": {
      "image/png": "[encoded data removed]",
      "text/plain": [
       "<Figure size 360x360 with 1 Axes>"
      ]
     },
     "metadata": {
      "needs_background": "light",
      "tags": []
     },
     "output_type": "display_data"
    }
   ],
   "source": [
    "for data in to_process_categorical:\n",
    "  process_categorical(data)"
   ]
  },
  {
   "cell_type": "markdown",
   "metadata": {
    "colab_type": "text",
    "id": "j1iUiBorYdHz"
   },
   "source": [
    "# output after data processing"
   ]
  },
  {
   "cell_type": "code",
   "execution_count": 0,
   "metadata": {
    "colab": {
     "base_uri": "https://localhost:8080/",
     "height": 407
    },
    "colab_type": "code",
    "id": "NLouB3HRK9xj",
    "outputId": "7bbb97ea-d349-4fce-b2f2-4f5f9f9c47b9"
   },
   "outputs": [
    {
     "data": {
      "text/html": [
       "<div>\n",
       "<style scoped>\n",
       "    .dataframe tbody tr th:only-of-type {\n",
       "        vertical-align: middle;\n",
       "    }\n",
       "\n",
       "    .dataframe tbody tr th {\n",
       "        vertical-align: top;\n",
       "    }\n",
       "\n",
       "    .dataframe thead th {\n",
       "        text-align: right;\n",
       "    }\n",
       "</style>\n",
       "<table border=\"1\" class=\"dataframe\">\n",
       "  <thead>\n",
       "    <tr style=\"text-align: right;\">\n",
       "      <th></th>\n",
       "      <th>maker</th>\n",
       "      <th>mileage</th>\n",
       "      <th>manufacture_year</th>\n",
       "      <th>engine_displacement</th>\n",
       "      <th>engine_power</th>\n",
       "      <th>transmission</th>\n",
       "      <th>door_count</th>\n",
       "      <th>seat_count</th>\n",
       "      <th>price_eur</th>\n",
       "    </tr>\n",
       "  </thead>\n",
       "  <tbody>\n",
       "    <tr>\n",
       "      <th>0</th>\n",
       "      <td>0</td>\n",
       "      <td>0.051548</td>\n",
       "      <td>0.162423</td>\n",
       "      <td>-0.026835</td>\n",
       "      <td>-0.001729</td>\n",
       "      <td>0</td>\n",
       "      <td>1.327277</td>\n",
       "      <td>2.125189</td>\n",
       "      <td>10584.75</td>\n",
       "    </tr>\n",
       "    <tr>\n",
       "      <th>1</th>\n",
       "      <td>1</td>\n",
       "      <td>0.028664</td>\n",
       "      <td>0.175295</td>\n",
       "      <td>-0.026835</td>\n",
       "      <td>-0.476524</td>\n",
       "      <td>0</td>\n",
       "      <td>1.327277</td>\n",
       "      <td>0.611323</td>\n",
       "      <td>8882.31</td>\n",
       "    </tr>\n",
       "    <tr>\n",
       "      <th>2</th>\n",
       "      <td>2</td>\n",
       "      <td>-0.110631</td>\n",
       "      <td>0.149551</td>\n",
       "      <td>-0.029684</td>\n",
       "      <td>-0.390198</td>\n",
       "      <td>0</td>\n",
       "      <td>1.327277</td>\n",
       "      <td>0.611323</td>\n",
       "      <td>12065.06</td>\n",
       "    </tr>\n",
       "    <tr>\n",
       "      <th>3</th>\n",
       "      <td>1</td>\n",
       "      <td>-0.067157</td>\n",
       "      <td>0.072321</td>\n",
       "      <td>-0.482586</td>\n",
       "      <td>-1.210298</td>\n",
       "      <td>0</td>\n",
       "      <td>1.327277</td>\n",
       "      <td>0.611323</td>\n",
       "      <td>2960.77</td>\n",
       "    </tr>\n",
       "    <tr>\n",
       "      <th>4</th>\n",
       "      <td>1</td>\n",
       "      <td>-0.015709</td>\n",
       "      <td>0.072321</td>\n",
       "      <td>-0.482586</td>\n",
       "      <td>-1.210298</td>\n",
       "      <td>0</td>\n",
       "      <td>1.327277</td>\n",
       "      <td>0.611323</td>\n",
       "      <td>2738.71</td>\n",
       "    </tr>\n",
       "    <tr>\n",
       "      <th>5</th>\n",
       "      <td>1</td>\n",
       "      <td>0.020927</td>\n",
       "      <td>0.059449</td>\n",
       "      <td>-0.482586</td>\n",
       "      <td>-1.361370</td>\n",
       "      <td>0</td>\n",
       "      <td>1.327277</td>\n",
       "      <td>0.611323</td>\n",
       "      <td>1628.42</td>\n",
       "    </tr>\n",
       "    <tr>\n",
       "      <th>6</th>\n",
       "      <td>1</td>\n",
       "      <td>0.100879</td>\n",
       "      <td>0.033706</td>\n",
       "      <td>-0.368648</td>\n",
       "      <td>-0.627595</td>\n",
       "      <td>0</td>\n",
       "      <td>1.327277</td>\n",
       "      <td>0.611323</td>\n",
       "      <td>2072.54</td>\n",
       "    </tr>\n",
       "    <tr>\n",
       "      <th>7</th>\n",
       "      <td>2</td>\n",
       "      <td>0.043944</td>\n",
       "      <td>0.136680</td>\n",
       "      <td>-0.026835</td>\n",
       "      <td>0.580973</td>\n",
       "      <td>1</td>\n",
       "      <td>1.327277</td>\n",
       "      <td>0.611323</td>\n",
       "      <td>10547.74</td>\n",
       "    </tr>\n",
       "    <tr>\n",
       "      <th>8</th>\n",
       "      <td>1</td>\n",
       "      <td>-0.087173</td>\n",
       "      <td>0.059449</td>\n",
       "      <td>-0.083804</td>\n",
       "      <td>-0.476524</td>\n",
       "      <td>0</td>\n",
       "      <td>1.327277</td>\n",
       "      <td>0.611323</td>\n",
       "      <td>4293.12</td>\n",
       "    </tr>\n",
       "    <tr>\n",
       "      <th>9</th>\n",
       "      <td>1</td>\n",
       "      <td>0.508914</td>\n",
       "      <td>0.046578</td>\n",
       "      <td>-0.083804</td>\n",
       "      <td>-0.325453</td>\n",
       "      <td>0</td>\n",
       "      <td>1.327277</td>\n",
       "      <td>0.611323</td>\n",
       "      <td>1332.35</td>\n",
       "    </tr>\n",
       "    <tr>\n",
       "      <th>10</th>\n",
       "      <td>1</td>\n",
       "      <td>0.207072</td>\n",
       "      <td>0.046578</td>\n",
       "      <td>-0.368648</td>\n",
       "      <td>-1.037646</td>\n",
       "      <td>0</td>\n",
       "      <td>1.327277</td>\n",
       "      <td>0.611323</td>\n",
       "      <td>740.19</td>\n",
       "    </tr>\n",
       "    <tr>\n",
       "      <th>11</th>\n",
       "      <td>1</td>\n",
       "      <td>0.394737</td>\n",
       "      <td>-0.004909</td>\n",
       "      <td>-0.083804</td>\n",
       "      <td>-0.476524</td>\n",
       "      <td>0</td>\n",
       "      <td>1.327277</td>\n",
       "      <td>0.611323</td>\n",
       "      <td>999.26</td>\n",
       "    </tr>\n",
       "  </tbody>\n",
       "</table>\n",
       "</div>"
      ],
      "text/plain": [
       "    maker   mileage  manufacture_year  ...  door_count  seat_count  price_eur\n",
       "0       0  0.051548          0.162423  ...    1.327277    2.125189   10584.75\n",
       "1       1  0.028664          0.175295  ...    1.327277    0.611323    8882.31\n",
       "2       2 -0.110631          0.149551  ...    1.327277    0.611323   12065.06\n",
       "3       1 -0.067157          0.072321  ...    1.327277    0.611323    2960.77\n",
       "4       1 -0.015709          0.072321  ...    1.327277    0.611323    2738.71\n",
       "5       1  0.020927          0.059449  ...    1.327277    0.611323    1628.42\n",
       "6       1  0.100879          0.033706  ...    1.327277    0.611323    2072.54\n",
       "7       2  0.043944          0.136680  ...    1.327277    0.611323   10547.74\n",
       "8       1 -0.087173          0.059449  ...    1.327277    0.611323    4293.12\n",
       "9       1  0.508914          0.046578  ...    1.327277    0.611323    1332.35\n",
       "10      1  0.207072          0.046578  ...    1.327277    0.611323     740.19\n",
       "11      1  0.394737         -0.004909  ...    1.327277    0.611323     999.26\n",
       "\n",
       "[12 rows x 9 columns]"
      ]
     },
     "execution_count": 22,
     "metadata": {
      "tags": []
     },
     "output_type": "execute_result"
    }
   ],
   "source": [
    "datas.head(12)"
   ]
  },
  {
   "cell_type": "markdown",
   "metadata": {
    "colab_type": "text",
    "id": "bXkxxuyrYo8a"
   },
   "source": [
    "# algorithms to use mdata on"
   ]
  },
  {
   "cell_type": "code",
   "execution_count": 0,
   "metadata": {
    "colab": {},
    "colab_type": "code",
    "id": "shkN15duNzd0"
   },
   "outputs": [],
   "source": [
    "def methods(X, y):\n",
    "    X_train, X_test, y_train, y_test = train_test_split(X, y, test_size=0.2)    \n",
    "    lin_reg = LinearRegression()\n",
    "    lin_reg.fit(X_train, y_train)\n",
    "    lin_pred = lin_reg.predict(X_test)\n",
    "    \n",
    "    dtree = DecisionTreeRegressor(criterion='mse')\n",
    "    dtree.fit(X_train, y_train)\n",
    "    dtree_pred = dtree.predict(X_test)\n",
    "    \n",
    "    result( lin_pred, dtree_pred, y_test)\n",
    "\n",
    "def result( lin_pred, dtree_pred, y_test):\n",
    "    print(\"\\t****R2- Score****\")\n",
    "    print(f'For DT: {r2_score(y_test, dtree_pred)} ')\n",
    "    print(f'For LR: {r2_score(y_test, lin_pred)} \\n\\n\\n')\n",
    "    \n",
    "    print(\"\\t****MAE****\")\n",
    "    print(f'For DT: {mean_absolute_error(y_test, dtree_pred)} ')\n",
    "    print(f'For LR: {mean_absolute_error(y_test, lin_pred)} \\n\\n\\n')\n",
    "    \n",
    "    print(\"\\t****MSE****\")\n",
    "    print(f'For DT: {mean_squared_error(y_test, dtree_pred)} ')\n",
    "    print(f'For LR: {mean_squared_error(y_test, lin_pred)} ')"
   ]
  },
  {
   "cell_type": "code",
   "execution_count": 0,
   "metadata": {
    "colab": {},
    "colab_type": "code",
    "id": "sXb4Y8MjOEx7"
   },
   "outputs": [],
   "source": [
    "X = datas.drop('price_eur', axis=1)\n",
    "y = datas['price_eur']"
   ]
  },
  {
   "cell_type": "markdown",
   "metadata": {
    "colab_type": "text",
    "id": "EmA5Re1aYu4d"
   },
   "source": [
    "# Final result"
   ]
  },
  {
   "cell_type": "code",
   "execution_count": 0,
   "metadata": {
    "colab": {
     "base_uri": "https://localhost:8080/",
     "height": 283
    },
    "colab_type": "code",
    "id": "eRWTHc00Oasz",
    "outputId": "84a65223-cfd0-40fd-d5d6-cbbff02c47b5"
   },
   "outputs": [
    {
     "name": "stdout",
     "output_type": "stream",
     "text": [
      "\t****R2- Score****\n",
      "For DT: -4.235537312183245 \n",
      "For LR: -0.09244974423884056 \n",
      "\n",
      "\n",
      "\n",
      "\t****MAE****\n",
      "For DT: 1208265.8799431047 \n",
      "For LR: 3183675.4622462825 \n",
      "\n",
      "\n",
      "\n",
      "\t****MSE****\n",
      "For DT: 3278275077957997.0 \n",
      "For LR: 684046461119830.6 \n"
     ]
    }
   ],
   "source": [
    "methods(X, y)"
   ]
  }
 ],
 "metadata": {
  "accelerator": "GPU",
  "colab": {
   "collapsed_sections": [],
   "name": "Feature Engineering .ipynb",
   "provenance": []
  },
  "kernelspec": {
   "display_name": "Python 3",
   "language": "python",
   "name": "python3"
  },
  "language_info": {
   "codemirror_mode": {
    "name": "ipython",
    "version": 3
   },
   "file_extension": ".py",
   "mimetype": "text/x-python",
   "name": "python",
   "nbconvert_exporter": "python",
   "pygments_lexer": "ipython3",
   "version": "3.7.3"
  }
 },
 "nbformat": 4,
 "nbformat_minor": 1
}
